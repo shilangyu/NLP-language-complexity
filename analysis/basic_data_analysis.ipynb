{
 "cells": [
  {
   "cell_type": "code",
   "execution_count": 11,
   "id": "28ee10d5",
   "metadata": {
    "pycharm": {
     "name": "#%%\n"
    }
   },
   "outputs": [],
   "source": [
    "import pandas as pd\n",
    "from matplotlib import pyplot as plt\n",
    "import numpy as np\n",
    "from pathlib import Path\n",
    "import os\n",
    "import nltk\n",
    "from nltk import word_tokenize\n",
    "from tqdm.auto import tqdm\n",
    "import shutil\n",
    "\n",
    "dataset_path = Path('issues.csv.gz')\n",
    "\n",
    "# download dataset if not already present\n",
    "if not dataset_path.exists():\n",
    "    import requests\n",
    "\n",
    "    with requests.get('https://vps-cd52fe2c.vps.ovh.net/nlp/issues.csv.gz', stream=True) as r:\n",
    "        content_length = int(r.headers.get(\"Content-Length\"))\n",
    "\n",
    "        with tqdm.wrapattr(r.raw, 'read', total=content_length, desc='Downloading dataset') as raw:\n",
    "            with open(dataset_path, 'wb') as f:\n",
    "                shutil.copyfileobj(raw, f)\n",
    "\n",
    "df = pd.read_csv(dataset_path, keep_default_na=False)\n",
    "LANGUAGES = df['language'].unique()\n"
   ]
  },
  {
   "cell_type": "code",
   "execution_count": 12,
   "id": "38769663",
   "metadata": {
    "pycharm": {
     "name": "#%%\n"
    }
   },
   "outputs": [
    {
     "name": "stdout",
     "output_type": "stream",
     "text": [
      "['Python' 'C' 'Javascript' 'Go']\n"
     ]
    },
    {
     "data": {
      "text/html": [
       "<div>\n",
       "<style scoped>\n",
       "    .dataframe tbody tr th:only-of-type {\n",
       "        vertical-align: middle;\n",
       "    }\n",
       "\n",
       "    .dataframe tbody tr th {\n",
       "        vertical-align: top;\n",
       "    }\n",
       "\n",
       "    .dataframe thead th {\n",
       "        text-align: right;\n",
       "    }\n",
       "</style>\n",
       "<table border=\"1\" class=\"dataframe\">\n",
       "  <thead>\n",
       "    <tr style=\"text-align: right;\">\n",
       "      <th></th>\n",
       "      <th>author</th>\n",
       "      <th>language</th>\n",
       "      <th>text</th>\n",
       "    </tr>\n",
       "  </thead>\n",
       "  <tbody>\n",
       "    <tr>\n",
       "      <th>7384</th>\n",
       "      <td>sobolevn</td>\n",
       "      <td>Python</td>\n",
       "      <td>Here are my models: And my factories: And fina...</td>\n",
       "    </tr>\n",
       "    <tr>\n",
       "      <th>18983</th>\n",
       "      <td>mingrammer</td>\n",
       "      <td>Python</td>\n",
       "      <td>I want to translate it to korean. But I don't ...</td>\n",
       "    </tr>\n",
       "    <tr>\n",
       "      <th>89230</th>\n",
       "      <td>sebmck</td>\n",
       "      <td>Javascript</td>\n",
       "      <td>Rome contains a custom JSON parser at . The pr...</td>\n",
       "    </tr>\n",
       "    <tr>\n",
       "      <th>148453</th>\n",
       "      <td>andot</td>\n",
       "      <td>Go</td>\n",
       "      <td>In keymaps/dart-tools.cson: Use the tag instea...</td>\n",
       "    </tr>\n",
       "    <tr>\n",
       "      <th>49376</th>\n",
       "      <td>tatsuhiro-t</td>\n",
       "      <td>C</td>\n",
       "      <td>The packet number space that endpoint should s...</td>\n",
       "    </tr>\n",
       "    <tr>\n",
       "      <th>59258</th>\n",
       "      <td>s-u</td>\n",
       "      <td>C</td>\n",
       "      <td>What should the API be for a webpage that uses...</td>\n",
       "    </tr>\n",
       "    <tr>\n",
       "      <th>183043</th>\n",
       "      <td>spencerkimball</td>\n",
       "      <td>Go</td>\n",
       "      <td>We should periodically write the offset interv...</td>\n",
       "    </tr>\n",
       "    <tr>\n",
       "      <th>59269</th>\n",
       "      <td>s-u</td>\n",
       "      <td>C</td>\n",
       "      <td>In R 3.6.0 has been broken without documentati...</td>\n",
       "    </tr>\n",
       "    <tr>\n",
       "      <th>145933</th>\n",
       "      <td>lilic</td>\n",
       "      <td>Go</td>\n",
       "      <td>Currently, kube-state-metrics uses the depreca...</td>\n",
       "    </tr>\n",
       "    <tr>\n",
       "      <th>31646</th>\n",
       "      <td>berkerpeksag</td>\n",
       "      <td>Python</td>\n",
       "      <td>See for his commits so far. See also for his p...</td>\n",
       "    </tr>\n",
       "  </tbody>\n",
       "</table>\n",
       "</div>"
      ],
      "text/plain": [
       "                author    language  \\\n",
       "7384          sobolevn      Python   \n",
       "18983       mingrammer      Python   \n",
       "89230           sebmck  Javascript   \n",
       "148453           andot          Go   \n",
       "49376      tatsuhiro-t           C   \n",
       "59258              s-u           C   \n",
       "183043  spencerkimball          Go   \n",
       "59269              s-u           C   \n",
       "145933           lilic          Go   \n",
       "31646     berkerpeksag      Python   \n",
       "\n",
       "                                                     text  \n",
       "7384    Here are my models: And my factories: And fina...  \n",
       "18983   I want to translate it to korean. But I don't ...  \n",
       "89230   Rome contains a custom JSON parser at . The pr...  \n",
       "148453  In keymaps/dart-tools.cson: Use the tag instea...  \n",
       "49376   The packet number space that endpoint should s...  \n",
       "59258   What should the API be for a webpage that uses...  \n",
       "183043  We should periodically write the offset interv...  \n",
       "59269   In R 3.6.0 has been broken without documentati...  \n",
       "145933  Currently, kube-state-metrics uses the depreca...  \n",
       "31646   See for his commits so far. See also for his p...  "
      ]
     },
     "execution_count": 12,
     "metadata": {},
     "output_type": "execute_result"
    }
   ],
   "source": [
    "print(LANGUAGES)\n",
    "df.sample(n=10)\n"
   ]
  },
  {
   "cell_type": "code",
   "execution_count": 15,
   "id": "44e22818",
   "metadata": {
    "pycharm": {
     "name": "#%%\n"
    }
   },
   "outputs": [
    {
     "data": {
      "text/html": [
       "<div>\n",
       "<style scoped>\n",
       "    .dataframe tbody tr th:only-of-type {\n",
       "        vertical-align: middle;\n",
       "    }\n",
       "\n",
       "    .dataframe tbody tr th {\n",
       "        vertical-align: top;\n",
       "    }\n",
       "\n",
       "    .dataframe thead th {\n",
       "        text-align: right;\n",
       "    }\n",
       "</style>\n",
       "<table border=\"1\" class=\"dataframe\">\n",
       "  <thead>\n",
       "    <tr style=\"text-align: right;\">\n",
       "      <th></th>\n",
       "      <th>author</th>\n",
       "      <th>language</th>\n",
       "      <th>text</th>\n",
       "      <th>tokenized_text</th>\n",
       "    </tr>\n",
       "  </thead>\n",
       "  <tbody>\n",
       "    <tr>\n",
       "      <th>0</th>\n",
       "      <td>llSourcell</td>\n",
       "      <td>Python</td>\n",
       "      <td>I get the following error when i attempt to tr...</td>\n",
       "      <td>[I, get, the, following, error, when, i, attem...</td>\n",
       "    </tr>\n",
       "    <tr>\n",
       "      <th>1</th>\n",
       "      <td>llSourcell</td>\n",
       "      <td>Python</td>\n",
       "      <td>won't compile. output below bash-3.2# make Mak...</td>\n",
       "      <td>[wo, n't, compile, ., output, below, bash-3.2,...</td>\n",
       "    </tr>\n",
       "    <tr>\n",
       "      <th>2</th>\n",
       "      <td>llSourcell</td>\n",
       "      <td>Python</td>\n",
       "      <td>I get this error when i attemp to build the co...</td>\n",
       "      <td>[I, get, this, error, when, i, attemp, to, bui...</td>\n",
       "    </tr>\n",
       "    <tr>\n",
       "      <th>3</th>\n",
       "      <td>llSourcell</td>\n",
       "      <td>Python</td>\n",
       "      <td>i couldn't find an instance on AWS called 'ami...</td>\n",
       "      <td>[i, could, n't, find, an, instance, on, AWS, c...</td>\n",
       "    </tr>\n",
       "    <tr>\n",
       "      <th>4</th>\n",
       "      <td>llSourcell</td>\n",
       "      <td>Python</td>\n",
       "      <td>Error below. Any ideas? dyn-160-39-195-144:wal...</td>\n",
       "      <td>[Error, below, ., Any, ideas, ?, dyn-160-39-19...</td>\n",
       "    </tr>\n",
       "  </tbody>\n",
       "</table>\n",
       "</div>"
      ],
      "text/plain": [
       "       author language                                               text  \\\n",
       "0  llSourcell   Python  I get the following error when i attempt to tr...   \n",
       "1  llSourcell   Python  won't compile. output below bash-3.2# make Mak...   \n",
       "2  llSourcell   Python  I get this error when i attemp to build the co...   \n",
       "3  llSourcell   Python  i couldn't find an instance on AWS called 'ami...   \n",
       "4  llSourcell   Python  Error below. Any ideas? dyn-160-39-195-144:wal...   \n",
       "\n",
       "                                      tokenized_text  \n",
       "0  [I, get, the, following, error, when, i, attem...  \n",
       "1  [wo, n't, compile, ., output, below, bash-3.2,...  \n",
       "2  [I, get, this, error, when, i, attemp, to, bui...  \n",
       "3  [i, could, n't, find, an, instance, on, AWS, c...  \n",
       "4  [Error, below, ., Any, ideas, ?, dyn-160-39-19...  "
      ]
     },
     "execution_count": 15,
     "metadata": {},
     "output_type": "execute_result"
    }
   ],
   "source": [
    "df['tokenized_text'] = df['text'].apply(word_tokenize)\n",
    "df.head()\n"
   ]
  },
  {
   "cell_type": "code",
   "execution_count": 16,
   "id": "cecbaa43",
   "metadata": {
    "pycharm": {
     "name": "#%%\n"
    }
   },
   "outputs": [
    {
     "name": "stderr",
     "output_type": "stream",
     "text": [
      "[nltk_data] Downloading package wordnet to\n",
      "[nltk_data]     /Users/marcinwojnarowski/nltk_data...\n",
      "[nltk_data]   Package wordnet is already up-to-date!\n"
     ]
    }
   ],
   "source": [
    "from nltk.corpus import stopwords\n",
    "import nltk\n",
    "\n",
    "nltk.download('wordnet')\n",
    "sw = set(stopwords.words('english'))\n",
    "\n",
    "\n",
    "def normalize_words(words: list[str]) -> list[str]:\n",
    "    tokens = (\n",
    "        # Make all words lowercase\n",
    "        word.lower()\n",
    "        for word in words\n",
    "        # Remove punctuations\n",
    "        if word.isalpha())\n",
    "    # Remove stopwords\n",
    "    tokens = [word for word in tokens if not word in sw]\n",
    "\n",
    "    return tokens\n"
   ]
  },
  {
   "cell_type": "code",
   "execution_count": 17,
   "id": "808a6c36",
   "metadata": {
    "pycharm": {
     "name": "#%%\n"
    }
   },
   "outputs": [
    {
     "data": {
      "text/html": [
       "<div>\n",
       "<style scoped>\n",
       "    .dataframe tbody tr th:only-of-type {\n",
       "        vertical-align: middle;\n",
       "    }\n",
       "\n",
       "    .dataframe tbody tr th {\n",
       "        vertical-align: top;\n",
       "    }\n",
       "\n",
       "    .dataframe thead th {\n",
       "        text-align: right;\n",
       "    }\n",
       "</style>\n",
       "<table border=\"1\" class=\"dataframe\">\n",
       "  <thead>\n",
       "    <tr style=\"text-align: right;\">\n",
       "      <th></th>\n",
       "      <th>author</th>\n",
       "      <th>language</th>\n",
       "      <th>text</th>\n",
       "      <th>tokenized_text</th>\n",
       "      <th>normalized_text</th>\n",
       "    </tr>\n",
       "  </thead>\n",
       "  <tbody>\n",
       "    <tr>\n",
       "      <th>0</th>\n",
       "      <td>llSourcell</td>\n",
       "      <td>Python</td>\n",
       "      <td>I get the following error when i attempt to tr...</td>\n",
       "      <td>[I, get, the, following, error, when, i, attem...</td>\n",
       "      <td>[get, following, error, attempt, train, networ...</td>\n",
       "    </tr>\n",
       "    <tr>\n",
       "      <th>1</th>\n",
       "      <td>llSourcell</td>\n",
       "      <td>Python</td>\n",
       "      <td>won't compile. output below bash-3.2# make Mak...</td>\n",
       "      <td>[wo, n't, compile, ., output, below, bash-3.2,...</td>\n",
       "      <td>[wo, compile, output, make, making, src, makin...</td>\n",
       "    </tr>\n",
       "    <tr>\n",
       "      <th>2</th>\n",
       "      <td>llSourcell</td>\n",
       "      <td>Python</td>\n",
       "      <td>I get this error when i attemp to build the co...</td>\n",
       "      <td>[I, get, this, error, when, i, attemp, to, bui...</td>\n",
       "      <td>[get, error, attemp, build, code, ideas]</td>\n",
       "    </tr>\n",
       "    <tr>\n",
       "      <th>3</th>\n",
       "      <td>llSourcell</td>\n",
       "      <td>Python</td>\n",
       "      <td>i couldn't find an instance on AWS called 'ami...</td>\n",
       "      <td>[i, could, n't, find, an, instance, on, AWS, c...</td>\n",
       "      <td>[could, find, instance, aws, called, link, one]</td>\n",
       "    </tr>\n",
       "    <tr>\n",
       "      <th>4</th>\n",
       "      <td>llSourcell</td>\n",
       "      <td>Python</td>\n",
       "      <td>Error below. Any ideas? dyn-160-39-195-144:wal...</td>\n",
       "      <td>[Error, below, ., Any, ideas, ?, dyn-160-39-19...</td>\n",
       "      <td>[error, ideas, jasonravel, build, failure, bui...</td>\n",
       "    </tr>\n",
       "  </tbody>\n",
       "</table>\n",
       "</div>"
      ],
      "text/plain": [
       "       author language                                               text  \\\n",
       "0  llSourcell   Python  I get the following error when i attempt to tr...   \n",
       "1  llSourcell   Python  won't compile. output below bash-3.2# make Mak...   \n",
       "2  llSourcell   Python  I get this error when i attemp to build the co...   \n",
       "3  llSourcell   Python  i couldn't find an instance on AWS called 'ami...   \n",
       "4  llSourcell   Python  Error below. Any ideas? dyn-160-39-195-144:wal...   \n",
       "\n",
       "                                      tokenized_text  \\\n",
       "0  [I, get, the, following, error, when, i, attem...   \n",
       "1  [wo, n't, compile, ., output, below, bash-3.2,...   \n",
       "2  [I, get, this, error, when, i, attemp, to, bui...   \n",
       "3  [i, could, n't, find, an, instance, on, AWS, c...   \n",
       "4  [Error, below, ., Any, ideas, ?, dyn-160-39-19...   \n",
       "\n",
       "                                     normalized_text  \n",
       "0  [get, following, error, attempt, train, networ...  \n",
       "1  [wo, compile, output, make, making, src, makin...  \n",
       "2           [get, error, attemp, build, code, ideas]  \n",
       "3    [could, find, instance, aws, called, link, one]  \n",
       "4  [error, ideas, jasonravel, build, failure, bui...  "
      ]
     },
     "execution_count": 17,
     "metadata": {},
     "output_type": "execute_result"
    }
   ],
   "source": [
    "df['normalized_text'] = df['tokenized_text'].apply(normalize_words)\n",
    "df.head()"
   ]
  },
  {
   "cell_type": "markdown",
   "id": "d7a2e282",
   "metadata": {
    "pycharm": {
     "name": "#%% md\n"
    }
   },
   "source": [
    "## Average text length"
   ]
  },
  {
   "cell_type": "code",
   "execution_count": 18,
   "id": "1382c8c3",
   "metadata": {
    "pycharm": {
     "name": "#%%\n"
    }
   },
   "outputs": [
    {
     "data": {
      "image/png": "[encoded data removed]",
      "text/plain": [
       "<Figure size 432x288 with 1 Axes>"
      ]
     },
     "metadata": {
      "needs_background": "light"
     },
     "output_type": "display_data"
    }
   ],
   "source": [
    "df['length'] = df['tokenized_text'].apply(len)\n",
    "\n",
    "means = [np.mean(df[df['language'] == lang]['length']) for lang in LANGUAGES]\n",
    "\n",
    "plt.bar(LANGUAGES, means)\n",
    "plt.show()\n"
   ]
  },
  {
   "cell_type": "markdown",
   "id": "f3db4987",
   "metadata": {
    "pycharm": {
     "name": "#%% md\n"
    }
   },
   "source": [
    "## Average lexical diversity\n",
    "\n",
    "How diverse is vocabulary of a single entry?"
   ]
  },
  {
   "cell_type": "code",
   "execution_count": 19,
   "id": "82ad66b3",
   "metadata": {
    "pycharm": {
     "name": "#%%\n"
    }
   },
   "outputs": [],
   "source": [
    "def lexical_diversity(text: list[str]) -> float:\n",
    "    return len(set(text)) / len(text)\n",
    "\n",
    "\n",
    "def percentage(count: float, total: float) -> float:\n",
    "    return 100 * count / total\n"
   ]
  },
  {
   "cell_type": "code",
   "execution_count": 20,
   "id": "20e4d263",
   "metadata": {
    "pycharm": {
     "name": "#%%\n"
    }
   },
   "outputs": [],
   "source": [
    "df['lex_div'] = df['tokenized_text'].apply(lexical_diversity)\n"
   ]
  },
  {
   "cell_type": "code",
   "execution_count": 21,
   "id": "634171aa",
   "metadata": {
    "pycharm": {
     "name": "#%%\n"
    }
   },
   "outputs": [
    {
     "data": {
      "image/png": "[encoded data removed]",
      "text/plain": [
       "<Figure size 432x288 with 1 Axes>"
      ]
     },
     "metadata": {
      "needs_background": "light"
     },
     "output_type": "display_data"
    }
   ],
   "source": [
    "means = [np.mean(df[df['language'] == lang]['lex_div']) for lang in LANGUAGES]\n",
    "\n",
    "plt.bar(LANGUAGES, means)\n",
    "plt.show()\n"
   ]
  },
  {
   "cell_type": "markdown",
   "id": "27632123",
   "metadata": {
    "pycharm": {
     "name": "#%% md\n"
    }
   },
   "source": [
    "## Total lexical diversity\n",
    "\n",
    "How all entries are similar to each other?"
   ]
  },
  {
   "cell_type": "code",
   "execution_count": 22,
   "id": "7de67942",
   "metadata": {
    "pycharm": {
     "name": "#%%\n"
    }
   },
   "outputs": [],
   "source": [
    "def lexical_diversity_whole(texts: pd.Series) -> float:\n",
    "    words = set(\n",
    "        w\n",
    "        for text in texts.values\n",
    "        for w in text\n",
    "    )\n",
    "\n",
    "    return len(words) / texts.apply(len).sum()\n"
   ]
  },
  {
   "cell_type": "code",
   "execution_count": 23,
   "id": "c9fe4424",
   "metadata": {
    "pycharm": {
     "name": "#%%\n"
    }
   },
   "outputs": [
    {
     "data": {
      "image/png": "[encoded data removed]",
      "text/plain": [
       "<Figure size 432x288 with 1 Axes>"
      ]
     },
     "metadata": {
      "needs_background": "light"
     },
     "output_type": "display_data"
    }
   ],
   "source": [
    "divs = [\n",
    "    lexical_diversity_whole(df[df['language'] == lang]['tokenized_text'])\n",
    "    for lang in LANGUAGES]\n",
    "\n",
    "plt.bar(LANGUAGES, divs)\n",
    "plt.show()\n"
   ]
  },
  {
   "cell_type": "markdown",
   "id": "8642127d",
   "metadata": {
    "pycharm": {
     "name": "#%% md\n"
    }
   },
   "source": [
    "## Average word length"
   ]
  },
  {
   "cell_type": "code",
   "execution_count": 24,
   "id": "4722c334",
   "metadata": {
    "pycharm": {
     "name": "#%%\n"
    }
   },
   "outputs": [],
   "source": [
    "def average(words):\n",
    "    return sum(len(word) for word in words) / len(words)\n"
   ]
  },
  {
   "cell_type": "code",
   "execution_count": 25,
   "id": "f88b6c0a",
   "metadata": {
    "pycharm": {
     "name": "#%%\n"
    }
   },
   "outputs": [],
   "source": [
    "df['word_length'] = df['tokenized_text'].apply(average)\n"
   ]
  },
  {
   "cell_type": "code",
   "execution_count": 26,
   "id": "1493cca9",
   "metadata": {
    "pycharm": {
     "name": "#%%\n"
    }
   },
   "outputs": [
    {
     "data": {
      "image/png": "[encoded data removed]",
      "text/plain": [
       "<Figure size 432x288 with 1 Axes>"
      ]
     },
     "metadata": {
      "needs_background": "light"
     },
     "output_type": "display_data"
    }
   ],
   "source": [
    "means = [np.mean(df[df['language'] == lang]['word_length'])\n",
    "         for lang in LANGUAGES]\n",
    "\n",
    "plt.bar(LANGUAGES, means)\n",
    "plt.show()\n"
   ]
  },
  {
   "cell_type": "markdown",
   "id": "b4c6a0dc",
   "metadata": {
    "pycharm": {
     "name": "#%% md\n"
    }
   },
   "source": [
    "## Percentage of words over 10 characters"
   ]
  },
  {
   "cell_type": "code",
   "execution_count": 27,
   "id": "84f82221",
   "metadata": {
    "pycharm": {
     "name": "#%%\n"
    }
   },
   "outputs": [],
   "source": [
    "def words_over_10(words: list[str]) -> int:\n",
    "    sum = 0\n",
    "    for word in words:\n",
    "        if len(word) >= 10:\n",
    "            sum += 1\n",
    "    return sum\n"
   ]
  },
  {
   "cell_type": "code",
   "execution_count": 28,
   "id": "3dadf1c5",
   "metadata": {
    "pycharm": {
     "name": "#%%\n"
    }
   },
   "outputs": [],
   "source": [
    "df['long_words'] = df['normalized_text'].apply(words_over_10)\n"
   ]
  },
  {
   "cell_type": "code",
   "execution_count": 29,
   "id": "3b95b184",
   "metadata": {
    "pycharm": {
     "name": "#%%\n"
    },
    "scrolled": true
   },
   "outputs": [
    {
     "data": {
      "image/png": "[encoded data removed]",
      "text/plain": [
       "<Figure size 432x288 with 1 Axes>"
      ]
     },
     "metadata": {
      "needs_background": "light"
     },
     "output_type": "display_data"
    }
   ],
   "source": [
    "sums = [np.sum(df[df['language'] == lang]['long_words']) / df[df['language'] == lang]['tokenized_text'].apply(len).sum()\n",
    "        for lang in LANGUAGES]\n",
    "\n",
    "plt.bar(LANGUAGES, sums)\n",
    "plt.show()\n"
   ]
  },
  {
   "cell_type": "markdown",
   "id": "4665ffd1",
   "metadata": {
    "pycharm": {
     "name": "#%% md\n"
    }
   },
   "source": [
    "## Frequency distribution"
   ]
  },
  {
   "cell_type": "code",
   "execution_count": 30,
   "id": "8e78c32a",
   "metadata": {
    "pycharm": {
     "name": "#%%\n"
    }
   },
   "outputs": [],
   "source": [
    "from nltk import FreqDist\n",
    "\n",
    "\n",
    "def get_freq_dist(tokenized_text_series: pd.Series) -> FreqDist:\n",
    "    return FreqDist(w for text in tokenized_text_series.values for w in text)\n"
   ]
  },
  {
   "cell_type": "code",
   "execution_count": 31,
   "id": "1fcb2add",
   "metadata": {
    "pycharm": {
     "name": "#%%\n"
    }
   },
   "outputs": [
    {
     "data": {
      "image/png": "[encoded data removed]",
      "text/plain": [
       "<Figure size 432x288 with 1 Axes>"
      ]
     },
     "metadata": {
      "needs_background": "light"
     },
     "output_type": "display_data"
    },
    {
     "data": {
      "image/png": "[encoded data removed]",
      "text/plain": [
       "<Figure size 432x288 with 1 Axes>"
      ]
     },
     "metadata": {
      "needs_background": "light"
     },
     "output_type": "display_data"
    },
    {
     "data": {
      "image/png": "[encoded data removed]",
      "text/plain": [
       "<Figure size 432x288 with 1 Axes>"
      ]
     },
     "metadata": {
      "needs_background": "light"
     },
     "output_type": "display_data"
    },
    {
     "data": {
      "image/png": "[encoded data removed]",
      "text/plain": [
       "<Figure size 432x288 with 1 Axes>"
      ]
     },
     "metadata": {
      "needs_background": "light"
     },
     "output_type": "display_data"
    }
   ],
   "source": [
    "freq_dists = [(lang, get_freq_dist(df[df['language'] == lang]\n",
    "                                   ['normalized_text'])) for lang in LANGUAGES]\n",
    "\n",
    "for (lang, dist) in freq_dists:\n",
    "    dist.plot(20, cumulative=True, title=lang)\n"
   ]
  },
  {
   "cell_type": "code",
   "execution_count": 32,
   "id": "fac17e6c",
   "metadata": {
    "pycharm": {
     "name": "#%%\n"
    }
   },
   "outputs": [
    {
     "name": "stdout",
     "output_type": "stream",
     "text": [
      "[3202072, 2772789, 4248497, 4831527]\n"
     ]
    }
   ],
   "source": [
    "total_tokens = [np.sum(df[df['language'] == lang]['length'])\n",
    "                for lang in LANGUAGES]\n",
    "print(total_tokens)\n",
    "#Javascript, Python, C: over 40% of text is first 20 words"
   ]
  },
  {
   "cell_type": "markdown",
   "id": "b5ae016d",
   "metadata": {
    "pycharm": {
     "name": "#%% md\n"
    }
   },
   "source": [
    "# Passive sentences frequenccy\n",
    "isPassive function by https://github.com/flycrane01/nltk-passive-voice-detector-for-English/blob/master/Passive-voice.py"
   ]
  },
  {
   "cell_type": "code",
   "execution_count": 33,
   "id": "7d775749",
   "metadata": {
    "pycharm": {
     "name": "#%%\n"
    }
   },
   "outputs": [],
   "source": [
    "beforms = ['am', 'is', 'are', 'been', 'was', 'were', 'be', 'being']  # all forms of \"be\"\n",
    "aux = ['do', 'did', 'does', 'have', 'has', 'had']\n",
    "\n",
    "\n",
    "def is_passive(words):  # NLTK tags \"do\" and \"have\" as verbs, which can be misleading in the following section\n",
    "    tokens = nltk.pos_tag(words)\n",
    "    tags = [i[1] for i in tokens]\n",
    "    if tags.count('VBN') == 0:  # no PP, no passive voice.\n",
    "        return False\n",
    "    elif tags.count('VBN') == 1 and 'been' in words:  # one PP \"been\", still no passive voice.\n",
    "        return False\n",
    "    else:\n",
    "        pos = [i for i in range(len(tags)) if\n",
    "               tags[i] == 'VBN' and words[i] != 'been']  # gather all the PPs that are not \"been\".\n",
    "        for end in pos:\n",
    "            chunk = tags[:end]\n",
    "            start = 0\n",
    "            for i in range(len(chunk), 0, -1):\n",
    "                last = chunk.pop()\n",
    "                if last == 'NN' or last == 'PRP':\n",
    "                    start = i  # get the chunk between PP and the previous NN or PRP (which in most cases are subjects)\n",
    "                    break\n",
    "            sentchunk = words[start:end]\n",
    "            tagschunk = tags[start:end]\n",
    "            verbspos = [i for i in range(len(tagschunk)) if\n",
    "                        tagschunk[i].startswith('V')]  # get all the verbs in between\n",
    "            if verbspos != []:  # if there are no verbs in between, it's not passive\n",
    "                for i in verbspos:\n",
    "                    if sentchunk[i].lower() not in beforms and sentchunk[\n",
    "                        i].lower() not in aux:  # check if they are all forms of \"be\" or auxiliaries such as \"do\" or \"have\".\n",
    "                        break\n",
    "                else:\n",
    "                    return True\n",
    "    return False\n"
   ]
  },
  {
   "cell_type": "code",
   "execution_count": 34,
   "id": "fbd44196",
   "metadata": {
    "pycharm": {
     "name": "#%%\n"
    }
   },
   "outputs": [],
   "source": [
    "def count_passives(text):\n",
    "    sum = len(text)\n",
    "    count = 0\n",
    "    for t in text:\n",
    "        if is_passive(t):\n",
    "            count += 1\n",
    "    return count / sum"
   ]
  },
  {
   "cell_type": "code",
   "execution_count": 35,
   "id": "0bd9f00d",
   "metadata": {
    "pycharm": {
     "name": "#%%\n"
    }
   },
   "outputs": [
    {
     "data": {
      "image/png": "[encoded data removed]",
      "text/plain": [
       "<Figure size 432x288 with 1 Axes>"
      ]
     },
     "metadata": {
      "needs_background": "light"
     },
     "output_type": "display_data"
    }
   ],
   "source": [
    "passive_freq = [(lang, count_passives(df[df['language'] == lang]\n",
    "                                      ['tokenized_text'])) for lang in LANGUAGES]\n",
    "\n",
    "plt.bar(*zip(*passive_freq))\n",
    "plt.show()"
   ]
  },
  {
   "cell_type": "markdown",
   "id": "3d10dec4",
   "metadata": {
    "pycharm": {
     "name": "#%% md\n"
    }
   },
   "source": []
  },
  {
   "cell_type": "markdown",
   "id": "87013cc6",
   "metadata": {
    "pycharm": {
     "name": "#%% md\n"
    }
   },
   "source": [
    "# Flesch reading score"
   ]
  },
  {
   "cell_type": "code",
   "execution_count": 36,
   "id": "edb420e4",
   "metadata": {
    "pycharm": {
     "name": "#%%\n"
    }
   },
   "outputs": [
    {
     "data": {
      "image/png": "[encoded data removed]",
      "text/plain": [
       "<Figure size 432x288 with 1 Axes>"
      ]
     },
     "metadata": {
      "needs_background": "light"
     },
     "output_type": "display_data"
    }
   ],
   "source": [
    "from textstat import textstat\n",
    "\n",
    "df['flesch_reading_ease'] = df['text'].apply(textstat.flesch_reading_ease)\n",
    "\n",
    "flesch_reading_score = [(lang, df[df['language'] == lang]['flesch_reading_ease'].mean()) for lang in LANGUAGES]\n",
    "\n",
    "plt.bar(*zip(*flesch_reading_score))\n",
    "plt.show()\n"
   ]
  },
  {
   "cell_type": "markdown",
   "id": "c9dd3d8f",
   "metadata": {
    "pycharm": {
     "name": "#%% md\n"
    }
   },
   "source": [
    "# Flesch-Kincaid grade"
   ]
  },
  {
   "cell_type": "code",
   "execution_count": 37,
   "id": "0e307aa1",
   "metadata": {
    "pycharm": {
     "name": "#%%\n"
    }
   },
   "outputs": [
    {
     "data": {
      "image/png": "[encoded data removed]",
      "text/plain": [
       "<Figure size 432x288 with 1 Axes>"
      ]
     },
     "metadata": {
      "needs_background": "light"
     },
     "output_type": "display_data"
    }
   ],
   "source": [
    "df['flesch_kincaid_grade'] = df['text'].apply(textstat.flesch_kincaid_grade)\n",
    "\n",
    "flesch_kincaid_grade = [(lang, df[df['language'] == lang]['flesch_kincaid_grade'].mean()) for lang in LANGUAGES]\n",
    "\n",
    "plt.bar(*zip(*flesch_kincaid_grade))\n",
    "plt.show()\n"
   ]
  }
 ],
 "metadata": {
  "interpreter": {
   "hash": "12b19673986d4010ba67c425cb0c5a822ac6ff18cb17f699860be4870fa5856d"
  },
  "kernelspec": {
   "display_name": "Python 3 (ipykernel)",
   "language": "python",
   "name": "python3"
  },
  "language_info": {
   "codemirror_mode": {
    "name": "ipython",
    "version": 3
   },
   "file_extension": ".py",
   "mimetype": "text/x-python",
   "name": "python",
   "nbconvert_exporter": "python",
   "pygments_lexer": "ipython3",
   "version": "3.10.4"
  }
 },
 "nbformat": 4,
 "nbformat_minor": 5
}
