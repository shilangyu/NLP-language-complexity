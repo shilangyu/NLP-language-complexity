{
 "cells": [
  {
   "cell_type": "code",
   "execution_count": 1,
   "id": "28ee10d5",
   "metadata": {
    "pycharm": {
     "name": "#%%\n"
    }
   },
   "outputs": [],
   "source": [
    "import pandas as pd\n",
    "from matplotlib import pyplot as plt\n",
    "import numpy as np\n",
    "import os\n",
    "import nltk, re, pprint\n",
    "from nltk import word_tokenize\n",
    "\n",
    "DATA_PATH = os.getcwd() + '/data_cleaner/output'\n",
    "\n",
    "df_C = pd.read_csv(DATA_PATH + '/C.csv')\n",
    "df_Python = pd.read_csv(DATA_PATH + '/Python.csv')\n",
    "df_Javascript = pd.read_csv(DATA_PATH + '/Javascript.csv')\n",
    "df_Go = pd.read_csv(DATA_PATH + '/Go.csv')"
   ]
  },
  {
   "cell_type": "code",
   "execution_count": 2,
   "id": "38769663",
   "metadata": {
    "pycharm": {
     "name": "#%%\n"
    }
   },
   "outputs": [
    {
     "data": {
      "text/html": [
       "<div>\n",
       "<style scoped>\n",
       "    .dataframe tbody tr th:only-of-type {\n",
       "        vertical-align: middle;\n",
       "    }\n",
       "\n",
       "    .dataframe tbody tr th {\n",
       "        vertical-align: top;\n",
       "    }\n",
       "\n",
       "    .dataframe thead th {\n",
       "        text-align: right;\n",
       "    }\n",
       "</style>\n",
       "<table border=\"1\" class=\"dataframe\">\n",
       "  <thead>\n",
       "    <tr style=\"text-align: right;\">\n",
       "      <th></th>\n",
       "      <th>author</th>\n",
       "      <th>text</th>\n",
       "    </tr>\n",
       "  </thead>\n",
       "  <tbody>\n",
       "    <tr>\n",
       "      <th>0</th>\n",
       "      <td>laruence</td>\n",
       "      <td>Hi: I am thinking of make a release(maybe a ta...</td>\n",
       "    </tr>\n",
       "    <tr>\n",
       "      <th>1</th>\n",
       "      <td>laruence</td>\n",
       "      <td>thanks</td>\n",
       "    </tr>\n",
       "    <tr>\n",
       "      <th>2</th>\n",
       "      <td>cloudwu</td>\n",
       "      <td>Maybe something wrong with Example 37 in my PC...</td>\n",
       "    </tr>\n",
       "    <tr>\n",
       "      <th>3</th>\n",
       "      <td>cloudwu</td>\n",
       "      <td>When I make Horde3D in mingw32, I got the erro...</td>\n",
       "    </tr>\n",
       "    <tr>\n",
       "      <th>4</th>\n",
       "      <td>cloudwu</td>\n",
       "      <td>I wrote a lua version of shaderc , today. I th...</td>\n",
       "    </tr>\n",
       "  </tbody>\n",
       "</table>\n",
       "</div>"
      ],
      "text/plain": [
       "     author                                               text\n",
       "0  laruence  Hi: I am thinking of make a release(maybe a ta...\n",
       "1  laruence                                             thanks\n",
       "2   cloudwu  Maybe something wrong with Example 37 in my PC...\n",
       "3   cloudwu  When I make Horde3D in mingw32, I got the erro...\n",
       "4   cloudwu  I wrote a lua version of shaderc , today. I th..."
      ]
     },
     "execution_count": 2,
     "metadata": {},
     "output_type": "execute_result"
    }
   ],
   "source": [
    "df_C.head()"
   ]
  },
  {
   "cell_type": "code",
   "execution_count": 3,
   "id": "44e22818",
   "metadata": {
    "pycharm": {
     "name": "#%%\n"
    }
   },
   "outputs": [
    {
     "data": {
      "text/html": [
       "<div>\n",
       "<style scoped>\n",
       "    .dataframe tbody tr th:only-of-type {\n",
       "        vertical-align: middle;\n",
       "    }\n",
       "\n",
       "    .dataframe tbody tr th {\n",
       "        vertical-align: top;\n",
       "    }\n",
       "\n",
       "    .dataframe thead th {\n",
       "        text-align: right;\n",
       "    }\n",
       "</style>\n",
       "<table border=\"1\" class=\"dataframe\">\n",
       "  <thead>\n",
       "    <tr style=\"text-align: right;\">\n",
       "      <th></th>\n",
       "      <th>author</th>\n",
       "      <th>text</th>\n",
       "      <th>tokenized_text</th>\n",
       "    </tr>\n",
       "  </thead>\n",
       "  <tbody>\n",
       "    <tr>\n",
       "      <th>0</th>\n",
       "      <td>laruence</td>\n",
       "      <td>Hi: I am thinking of make a release(maybe a ta...</td>\n",
       "      <td>[Hi, :, I, am, thinking, of, make, a, release,...</td>\n",
       "    </tr>\n",
       "    <tr>\n",
       "      <th>1</th>\n",
       "      <td>laruence</td>\n",
       "      <td>thanks</td>\n",
       "      <td>[thanks]</td>\n",
       "    </tr>\n",
       "    <tr>\n",
       "      <th>2</th>\n",
       "      <td>cloudwu</td>\n",
       "      <td>Maybe something wrong with Example 37 in my PC...</td>\n",
       "      <td>[Maybe, something, wrong, with, Example, 37, i...</td>\n",
       "    </tr>\n",
       "    <tr>\n",
       "      <th>3</th>\n",
       "      <td>cloudwu</td>\n",
       "      <td>When I make Horde3D in mingw32, I got the erro...</td>\n",
       "      <td>[When, I, make, Horde3D, in, mingw32, ,, I, go...</td>\n",
       "    </tr>\n",
       "    <tr>\n",
       "      <th>4</th>\n",
       "      <td>cloudwu</td>\n",
       "      <td>I wrote a lua version of shaderc , today. I th...</td>\n",
       "      <td>[I, wrote, a, lua, version, of, shaderc, ,, to...</td>\n",
       "    </tr>\n",
       "  </tbody>\n",
       "</table>\n",
       "</div>"
      ],
      "text/plain": [
       "     author                                               text  \\\n",
       "0  laruence  Hi: I am thinking of make a release(maybe a ta...   \n",
       "1  laruence                                             thanks   \n",
       "2   cloudwu  Maybe something wrong with Example 37 in my PC...   \n",
       "3   cloudwu  When I make Horde3D in mingw32, I got the erro...   \n",
       "4   cloudwu  I wrote a lua version of shaderc , today. I th...   \n",
       "\n",
       "                                      tokenized_text  \n",
       "0  [Hi, :, I, am, thinking, of, make, a, release,...  \n",
       "1                                           [thanks]  \n",
       "2  [Maybe, something, wrong, with, Example, 37, i...  \n",
       "3  [When, I, make, Horde3D, in, mingw32, ,, I, go...  \n",
       "4  [I, wrote, a, lua, version, of, shaderc, ,, to...  "
      ]
     },
     "execution_count": 3,
     "metadata": {},
     "output_type": "execute_result"
    }
   ],
   "source": [
    "df_C['tokenized_text'] = df_C['text'].apply(word_tokenize)\n",
    "df_C.head()"
   ]
  },
  {
   "cell_type": "code",
   "execution_count": 4,
   "id": "e6d13601",
   "metadata": {
    "pycharm": {
     "name": "#%%\n"
    }
   },
   "outputs": [],
   "source": [
    "df_Go['tokenized_text'] = df_Go['text'].apply(word_tokenize)\n",
    "df_Python['tokenized_text'] = df_Python['text'].apply(word_tokenize)\n",
    "df_Javascript['tokenized_text'] = df_Javascript['text'].apply(word_tokenize)"
   ]
  },
  {
   "cell_type": "markdown",
   "id": "d7a2e282",
   "metadata": {
    "pycharm": {
     "name": "#%% md\n"
    }
   },
   "source": [
    "## Average text length"
   ]
  },
  {
   "cell_type": "code",
   "execution_count": 5,
   "id": "1382c8c3",
   "metadata": {
    "pycharm": {
     "name": "#%%\n"
    }
   },
   "outputs": [
    {
     "data": {
      "image/png": "[encoded data removed]",
      "text/plain": [
       "<Figure size 432x288 with 1 Axes>"
      ]
     },
     "metadata": {
      "needs_background": "light"
     },
     "output_type": "display_data"
    }
   ],
   "source": [
    "df_C['length'] = df_C['tokenized_text'].apply(len)\n",
    "df_Go['length'] = df_Go['tokenized_text'].apply(len)\n",
    "df_Python['length'] = df_Python['tokenized_text'].apply(len)\n",
    "df_Javascript['length'] = df_Javascript['tokenized_text'].apply(len)\n",
    "\n",
    "means = [np.mean(df_C['length']), np.mean(df_Go['length']), np.mean(df_Python['length']),\n",
    "         np.mean(df_Javascript['length'])]\n",
    "widths = [1, 2, 3, 4]\n",
    "labels = ['C', 'Go', 'Python', 'JavaScript']\n",
    "plt.bar(widths, means, tick_label=labels,\n",
    "        width=0.8)\n",
    "plt.show()"
   ]
  },
  {
   "cell_type": "markdown",
   "id": "f3db4987",
   "metadata": {
    "pycharm": {
     "name": "#%% md\n"
    }
   },
   "source": [
    "## Average lexical diversity\n",
    "\n",
    "How diverse is vocabulary of a single entry?"
   ]
  },
  {
   "cell_type": "code",
   "execution_count": 6,
   "id": "82ad66b3",
   "metadata": {
    "pycharm": {
     "name": "#%%\n"
    }
   },
   "outputs": [],
   "source": [
    "def lexical_diversity(text):\n",
    "    return len(set(text)) / len(text)\n",
    "\n",
    "\n",
    "def percentage(count, total):\n",
    "    return 100 * count / total"
   ]
  },
  {
   "cell_type": "code",
   "execution_count": 7,
   "id": "20e4d263",
   "metadata": {
    "pycharm": {
     "name": "#%%\n"
    }
   },
   "outputs": [],
   "source": [
    "df_C['lex_div'] = df_C['text'].apply(lexical_diversity)\n",
    "df_Go['lex_div'] = df_Go['text'].apply(lexical_diversity)\n",
    "df_Python['lex_div'] = df_Python['text'].apply(lexical_diversity)\n",
    "df_Javascript['lex_div'] = df_Javascript['text'].apply(lexical_diversity)"
   ]
  },
  {
   "cell_type": "code",
   "execution_count": 8,
   "id": "634171aa",
   "metadata": {
    "pycharm": {
     "name": "#%%\n"
    }
   },
   "outputs": [
    {
     "data": {
      "image/png": "[encoded data removed]",
      "text/plain": [
       "<Figure size 432x288 with 1 Axes>"
      ]
     },
     "metadata": {
      "needs_background": "light"
     },
     "output_type": "display_data"
    }
   ],
   "source": [
    "means = [np.mean(df_C['lex_div']), np.mean(df_Go['lex_div']), np.mean(df_Python['lex_div']),\n",
    "         np.mean(df_Javascript['lex_div'])]\n",
    "plt.bar(widths, means, tick_label=labels,\n",
    "        width=0.8)\n",
    "plt.show()"
   ]
  },
  {
   "cell_type": "markdown",
   "id": "27632123",
   "metadata": {
    "pycharm": {
     "name": "#%% md\n"
    }
   },
   "source": [
    "## Total lexical diversity\n",
    "\n",
    "How all enries are similar to each other?"
   ]
  },
  {
   "cell_type": "code",
   "execution_count": 9,
   "id": "7de67942",
   "metadata": {
    "pycharm": {
     "name": "#%%\n"
    }
   },
   "outputs": [],
   "source": [
    "all_C = ' '.join(df_C['text'])\n",
    "all_Go = ' '.join(df_Go['text'])\n",
    "all_Python = ' '.join(df_Python['text'])\n",
    "all_Javascript = ' '.join(df_Javascript['text'])"
   ]
  },
  {
   "cell_type": "code",
   "execution_count": 10,
   "id": "c9fe4424",
   "metadata": {
    "pycharm": {
     "name": "#%%\n"
    }
   },
   "outputs": [
    {
     "data": {
      "image/png": "[encoded data removed]",
      "text/plain": [
       "<Figure size 432x288 with 1 Axes>"
      ]
     },
     "metadata": {
      "needs_background": "light"
     },
     "output_type": "display_data"
    }
   ],
   "source": [
    "divs = [lexical_diversity(all_C), lexical_diversity(all_Go), lexical_diversity(all_Python),\n",
    "        lexical_diversity(all_Javascript)]\n",
    "plt.bar(widths, divs, tick_label=labels,\n",
    "        width=0.8)\n",
    "plt.show()"
   ]
  },
  {
   "cell_type": "markdown",
   "id": "8642127d",
   "metadata": {
    "pycharm": {
     "name": "#%% md\n"
    }
   },
   "source": [
    "## Average word length"
   ]
  },
  {
   "cell_type": "code",
   "execution_count": 11,
   "id": "4722c334",
   "metadata": {
    "pycharm": {
     "name": "#%%\n"
    }
   },
   "outputs": [],
   "source": [
    "def average(words):\n",
    "    return (sum(len(word) for word in words) / len(words))\n"
   ]
  },
  {
   "cell_type": "code",
   "execution_count": 12,
   "id": "f88b6c0a",
   "metadata": {
    "pycharm": {
     "name": "#%%\n"
    }
   },
   "outputs": [],
   "source": [
    "\n",
    "df_C['word_length'] = df_C['tokenized_text'].apply(average)\n",
    "df_Go['word_length'] = df_Go['tokenized_text'].apply(average)\n",
    "df_Python['word_length'] = df_Python['tokenized_text'].apply(average)\n",
    "df_Javascript['word_length'] = df_Javascript['tokenized_text'].apply(average)\n"
   ]
  },
  {
   "cell_type": "code",
   "execution_count": 13,
   "id": "1493cca9",
   "metadata": {
    "pycharm": {
     "name": "#%%\n"
    }
   },
   "outputs": [
    {
     "data": {
      "image/png": "[encoded data removed]",
      "text/plain": [
       "<Figure size 432x288 with 1 Axes>"
      ]
     },
     "metadata": {
      "needs_background": "light"
     },
     "output_type": "display_data"
    }
   ],
   "source": [
    "means = [np.mean(df_C['word_length']), np.mean(df_Go['word_length']), np.mean(df_Python['word_length']),\n",
    "         np.mean(df_Javascript['word_length'])]\n",
    "plt.bar(widths, means, tick_label=labels,\n",
    "        width=0.8)\n",
    "plt.show()"
   ]
  },
  {
   "cell_type": "markdown",
   "id": "b4c6a0dc",
   "metadata": {
    "pycharm": {
     "name": "#%% md\n"
    }
   },
   "source": [
    "## Count of words over 10 characters"
   ]
  },
  {
   "cell_type": "code",
   "execution_count": 14,
   "id": "84f82221",
   "metadata": {
    "pycharm": {
     "name": "#%%\n"
    }
   },
   "outputs": [],
   "source": [
    "def words_over_10(words):\n",
    "    sum = 0\n",
    "    for word in words:\n",
    "        if (len(word) >= 10):\n",
    "            sum += 1\n",
    "    return sum"
   ]
  },
  {
   "cell_type": "code",
   "execution_count": 15,
   "id": "3dadf1c5",
   "metadata": {
    "pycharm": {
     "name": "#%%\n"
    }
   },
   "outputs": [],
   "source": [
    "df_C['long_words'] = df_C['tokenized_text'].apply(words_over_10)\n",
    "df_Go['long_words'] = df_Go['tokenized_text'].apply(words_over_10)\n",
    "df_Python['long_words'] = df_Python['tokenized_text'].apply(words_over_10)\n",
    "df_Javascript['long_words'] = df_Javascript['tokenized_text'].apply(words_over_10)"
   ]
  },
  {
   "cell_type": "code",
   "execution_count": 16,
   "id": "3b95b184",
   "metadata": {
    "pycharm": {
     "name": "#%%\n"
    },
    "scrolled": true
   },
   "outputs": [
    {
     "data": {
      "image/png": "[encoded data removed]",
      "text/plain": [
       "<Figure size 432x288 with 1 Axes>"
      ]
     },
     "metadata": {
      "needs_background": "light"
     },
     "output_type": "display_data"
    }
   ],
   "source": [
    "sums = [np.sum(df_C['long_words']), np.sum(df_Go['long_words']), np.sum(df_Python['long_words']),\n",
    "        np.sum(df_Javascript['long_words'])]\n",
    "plt.bar(widths, sums, tick_label=labels,\n",
    "        width=0.8)\n",
    "plt.show()"
   ]
  },
  {
   "cell_type": "markdown",
   "id": "4665ffd1",
   "metadata": {
    "pycharm": {
     "name": "#%% md\n"
    }
   },
   "source": [
    "## Frequency distribution"
   ]
  },
  {
   "cell_type": "code",
   "execution_count": 17,
   "id": "f17f7277",
   "metadata": {
    "pycharm": {
     "name": "#%%\n"
    }
   },
   "outputs": [],
   "source": [
    "# for calculating frequency distribution and saving it to file\n",
    "def freq_dist(all_lang, filename):\n",
    "    unique_lang = set(word_tokenize(all_lang))\n",
    "    freq = []\n",
    "    i = 0;\n",
    "    for word in unique_lang:\n",
    "        freq.append((all_lang.count(word), word))\n",
    "        i += 1\n",
    "        print(str(i) + \"/\" + str(len(unique_lang)))\n",
    "    freq_lang = sorted(freq, reverse=True)\n",
    "    df = pd.DataFrame(freq_lang)\n",
    "    df.rename(columns={0: \"number\", 1: \"word\"}, inplace=True)\n",
    "    df.to_csv(filename, index=False)"
   ]
  },
  {
   "cell_type": "code",
   "execution_count": 23,
   "id": "8e78c32a",
   "metadata": {
    "pycharm": {
     "name": "#%%\n"
    }
   },
   "outputs": [],
   "source": [
    "from itertools import chain\n",
    "from multiprocessing import Pool\n",
    "from nltk import FreqDist\n",
    "\n",
    "\n",
    "def _get_freq_dist_task(tokenized_texts: list[list[str]]) -> FreqDist:\n",
    "    return FreqDist(chain.from_iterable(tokenized_texts))\n",
    "\n",
    "\n",
    "def get_freq_dist(tokenized_text_series: pd.Series) -> FreqDist:\n",
    "    pool_size = os.cpu_count()\n",
    "\n",
    "    with Pool(pool_size) as pool:\n",
    "        return sum(\n",
    "            pool.imap_unordered(_get_freq_dist_task, np.array_split(tokenized_text_series.values, pool_size)),\n",
    "            start=FreqDist())"
   ]
  },
  {
   "cell_type": "code",
   "execution_count": 26,
   "metadata": {
    "collapsed": false,
    "pycharm": {
     "name": "#%%\n"
    }
   },
   "outputs": [
    {
     "data": {
      "image/png": "[encoded data removed]",
      "text/plain": [
       "<Figure size 432x288 with 1 Axes>"
      ]
     },
     "metadata": {
      "needs_background": "light"
     },
     "output_type": "display_data"
    },
    {
     "data": {
      "text/plain": [
       "<AxesSubplot:xlabel='Samples', ylabel='Cumulative Counts'>"
      ]
     },
     "execution_count": 25,
     "metadata": {},
     "output_type": "execute_result"
    },
    {
     "data": {
      "image/png": "[encoded data removed]",
      "text/plain": [
       "<Figure size 432x288 with 1 Axes>"
      ]
     },
     "metadata": {
      "needs_background": "light"
     },
     "output_type": "display_data"
    },
    {
     "data": {
      "image/png": "[encoded data removed]",
      "text/plain": [
       "<Figure size 432x288 with 1 Axes>"
      ]
     },
     "metadata": {
      "needs_background": "light"
     },
     "output_type": "display_data"
    },
    {
     "data": {
      "image/png": "[encoded data removed]",
      "text/plain": [
       "<Figure size 432x288 with 1 Axes>"
      ]
     },
     "metadata": {
      "needs_background": "light"
     },
     "output_type": "display_data"
    },
    {
     "data": {
      "image/png": "[encoded data removed]",
      "text/plain": [
       "<Figure size 432x288 with 1 Axes>"
      ]
     },
     "metadata": {
      "needs_background": "light"
     },
     "output_type": "display_data"
    },
    {
     "data": {
      "text/plain": [
       "<AxesSubplot:xlabel='Samples', ylabel='Cumulative Counts'>"
      ]
     },
     "execution_count": 26,
     "metadata": {},
     "output_type": "execute_result"
    }
   ],
   "source": [
    "freq_dist_C = get_freq_dist(df_C['tokenized_text'])\n",
    "freq_dist_C.plot(20, cumulative=True)\n",
    "\n",
    "freq_dist_Go = get_freq_dist(df_Go['tokenized_text'])\n",
    "freq_dist_Go.plot(20, cumulative=True)\n",
    "\n",
    "freq_dist_Javascript = get_freq_dist(df_Javascript['tokenized_text'])\n",
    "freq_dist_Javascript.plot(20, cumulative=True)\n",
    "\n",
    "freq_dist_Python = get_freq_dist(df_Python['tokenized_text'])\n",
    "freq_dist_Python.plot(20, cumulative=True)"
   ]
  },
  {
   "cell_type": "code",
   "execution_count": 27,
   "id": "30be3cd2",
   "metadata": {
    "pycharm": {
     "name": "#%%\n"
    }
   },
   "outputs": [
    {
     "name": "stdout",
     "output_type": "stream",
     "text": [
      "because\n"
     ]
    }
   ],
   "source": [
    "print(all_C.split()[100])"
   ]
  },
  {
   "cell_type": "code",
   "execution_count": 28,
   "id": "140f8400",
   "metadata": {
    "pycharm": {
     "name": "#%%\n"
    }
   },
   "outputs": [
    {
     "data": {
      "text/plain": [
       "196259"
      ]
     },
     "execution_count": 28,
     "metadata": {},
     "output_type": "execute_result"
    }
   ],
   "source": [
    "len(set(all_C.split()))"
   ]
  },
  {
   "cell_type": "code",
   "execution_count": 29,
   "id": "1694b09f",
   "metadata": {
    "pycharm": {
     "name": "#%%\n"
    }
   },
   "outputs": [
    {
     "data": {
      "text/plain": [
       "136333"
      ]
     },
     "execution_count": 29,
     "metadata": {},
     "output_type": "execute_result"
    }
   ],
   "source": [
    "len(set(word_tokenize(all_C)))\n"
   ]
  }
 ],
 "metadata": {
  "interpreter": {
   "hash": "12b19673986d4010ba67c425cb0c5a822ac6ff18cb17f699860be4870fa5856d"
  },
  "kernelspec": {
   "display_name": "Python 3.10.4 ('analysis-q8SqN7H1')",
   "language": "python",
   "name": "python3"
  },
  "language_info": {
   "codemirror_mode": {
    "name": "ipython",
    "version": 3
   },
   "file_extension": ".py",
   "mimetype": "text/x-python",
   "name": "python",
   "nbconvert_exporter": "python",
   "pygments_lexer": "ipython3",
   "version": "3.10.4"
  }
 },
 "nbformat": 4,
 "nbformat_minor": 5
}
