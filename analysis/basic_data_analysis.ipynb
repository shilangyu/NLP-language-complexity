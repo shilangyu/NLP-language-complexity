{
 "cells": [
  {
   "cell_type": "code",
   "execution_count": 2,
   "id": "28ee10d5",
   "metadata": {
    "pycharm": {
     "name": "#%%\n"
    }
   },
   "outputs": [],
   "source": [
    "import pandas as pd\n",
    "from matplotlib import pyplot as plt\n",
    "import numpy as np\n",
    "from pathlib import Path\n",
    "import os\n",
    "import nltk\n",
    "from nltk import word_tokenize\n",
    "from tqdm.auto import tqdm\n",
    "import shutil\n",
    "\n",
    "dataset_path = Path('issues.csv.gz')\n",
    "\n",
    "# download dataset if not already present\n",
    "if not dataset_path.exists():\n",
    "    import requests\n",
    "\n",
    "    with requests.get('https://vps-cd52fe2c.vps.ovh.net/nlp/issues.csv.gz', stream=True) as r:\n",
    "        content_length = int(r.headers.get(\"Content-Length\"))\n",
    "\n",
    "        with tqdm.wrapattr(r.raw, 'read', total=content_length, desc='Downloading dataset') as raw:\n",
    "            with open(dataset_path, 'wb') as f:\n",
    "                shutil.copyfileobj(raw, f)\n",
    "\n",
    "\n",
    "df = pd.read_csv(dataset_path)\n",
    "LANGUAGES = df['language'].unique()\n"
   ]
  },
  {
   "cell_type": "code",
   "execution_count": 20,
   "id": "38769663",
   "metadata": {
    "pycharm": {
     "name": "#%%\n"
    }
   },
   "outputs": [
    {
     "name": "stdout",
     "output_type": "stream",
     "text": [
      "['Python' 'C' 'Javascript' 'Go']\n"
     ]
    },
    {
     "data": {
      "text/html": [
       "<div>\n",
       "<style scoped>\n",
       "    .dataframe tbody tr th:only-of-type {\n",
       "        vertical-align: middle;\n",
       "    }\n",
       "\n",
       "    .dataframe tbody tr th {\n",
       "        vertical-align: top;\n",
       "    }\n",
       "\n",
       "    .dataframe thead th {\n",
       "        text-align: right;\n",
       "    }\n",
       "</style>\n",
       "<table border=\"1\" class=\"dataframe\">\n",
       "  <thead>\n",
       "    <tr style=\"text-align: right;\">\n",
       "      <th></th>\n",
       "      <th>author</th>\n",
       "      <th>language</th>\n",
       "      <th>text</th>\n",
       "      <th>tokenized_text</th>\n",
       "    </tr>\n",
       "  </thead>\n",
       "  <tbody>\n",
       "    <tr>\n",
       "      <th>131920</th>\n",
       "      <td>justincormack</td>\n",
       "      <td>Go</td>\n",
       "      <td>Cannot completely, as we need some things they...</td>\n",
       "      <td>[Can, not, completely, ,, as, we, need, some, ...</td>\n",
       "    </tr>\n",
       "    <tr>\n",
       "      <th>33273</th>\n",
       "      <td>JoshData</td>\n",
       "      <td>Python</td>\n",
       "      <td>Once an alias matches an address, no matter wh...</td>\n",
       "      <td>[Once, an, alias, matches, an, address, ,, no,...</td>\n",
       "    </tr>\n",
       "    <tr>\n",
       "      <th>74796</th>\n",
       "      <td>johnpapa</td>\n",
       "      <td>Javascript</td>\n",
       "      <td>Notice that the func extendExceptionHandler ge...</td>\n",
       "      <td>[Notice, that, the, func, extendExceptionHandl...</td>\n",
       "    </tr>\n",
       "    <tr>\n",
       "      <th>41787</th>\n",
       "      <td>behdad</td>\n",
       "      <td>C</td>\n",
       "      <td>For binary GPOS interpolation, as well as for ...</td>\n",
       "      <td>[For, binary, GPOS, interpolation, ,, as, well...</td>\n",
       "    </tr>\n",
       "    <tr>\n",
       "      <th>86491</th>\n",
       "      <td>cowboy</td>\n",
       "      <td>Javascript</td>\n",
       "      <td>Uses , includes pre-compiled binaries for popu...</td>\n",
       "      <td>[Uses, ,, includes, pre-compiled, binaries, fo...</td>\n",
       "    </tr>\n",
       "    <tr>\n",
       "      <th>111075</th>\n",
       "      <td>cwilso</td>\n",
       "      <td>Javascript</td>\n",
       "      <td>Idea raised by Jennie Delisi in the TPAC sessi...</td>\n",
       "      <td>[Idea, raised, by, Jennie, Delisi, in, the, TP...</td>\n",
       "    </tr>\n",
       "    <tr>\n",
       "      <th>1423</th>\n",
       "      <td>chiphuyen</td>\n",
       "      <td>Python</td>\n",
       "      <td>I was looking into the data.py and saw that th...</td>\n",
       "      <td>[I, was, looking, into, the, data.py, and, saw...</td>\n",
       "    </tr>\n",
       "    <tr>\n",
       "      <th>28037</th>\n",
       "      <td>owocki</td>\n",
       "      <td>Python</td>\n",
       "      <td>Welcome to the BIG Gitcoin Grants CLR Round 6 ...</td>\n",
       "      <td>[Welcome, to, the, BIG, Gitcoin, Grants, CLR, ...</td>\n",
       "    </tr>\n",
       "    <tr>\n",
       "      <th>49328</th>\n",
       "      <td>Maratyszcza</td>\n",
       "      <td>C</td>\n",
       "      <td>PeachPy doesn't create \".note.GNU-stack\" secti...</td>\n",
       "      <td>[PeachPy, does, n't, create, ``, .note.GNU-sta...</td>\n",
       "    </tr>\n",
       "    <tr>\n",
       "      <th>13161</th>\n",
       "      <td>ymcui</td>\n",
       "      <td>Python</td>\n",
       "      <td>Hi, The link to SQuAD dev-v2.0.json seems to b...</td>\n",
       "      <td>[Hi, ,, The, link, to, SQuAD, dev-v2.0.json, s...</td>\n",
       "    </tr>\n",
       "  </tbody>\n",
       "</table>\n",
       "</div>"
      ],
      "text/plain": [
       "               author    language  \\\n",
       "131920  justincormack          Go   \n",
       "33273        JoshData      Python   \n",
       "74796        johnpapa  Javascript   \n",
       "41787          behdad           C   \n",
       "86491          cowboy  Javascript   \n",
       "111075         cwilso  Javascript   \n",
       "1423        chiphuyen      Python   \n",
       "28037          owocki      Python   \n",
       "49328     Maratyszcza           C   \n",
       "13161           ymcui      Python   \n",
       "\n",
       "                                                     text  \\\n",
       "131920  Cannot completely, as we need some things they...   \n",
       "33273   Once an alias matches an address, no matter wh...   \n",
       "74796   Notice that the func extendExceptionHandler ge...   \n",
       "41787   For binary GPOS interpolation, as well as for ...   \n",
       "86491   Uses , includes pre-compiled binaries for popu...   \n",
       "111075  Idea raised by Jennie Delisi in the TPAC sessi...   \n",
       "1423    I was looking into the data.py and saw that th...   \n",
       "28037   Welcome to the BIG Gitcoin Grants CLR Round 6 ...   \n",
       "49328   PeachPy doesn't create \".note.GNU-stack\" secti...   \n",
       "13161   Hi, The link to SQuAD dev-v2.0.json seems to b...   \n",
       "\n",
       "                                           tokenized_text  \n",
       "131920  [Can, not, completely, ,, as, we, need, some, ...  \n",
       "33273   [Once, an, alias, matches, an, address, ,, no,...  \n",
       "74796   [Notice, that, the, func, extendExceptionHandl...  \n",
       "41787   [For, binary, GPOS, interpolation, ,, as, well...  \n",
       "86491   [Uses, ,, includes, pre-compiled, binaries, fo...  \n",
       "111075  [Idea, raised, by, Jennie, Delisi, in, the, TP...  \n",
       "1423    [I, was, looking, into, the, data.py, and, saw...  \n",
       "28037   [Welcome, to, the, BIG, Gitcoin, Grants, CLR, ...  \n",
       "49328   [PeachPy, does, n't, create, ``, .note.GNU-sta...  \n",
       "13161   [Hi, ,, The, link, to, SQuAD, dev-v2.0.json, s...  "
      ]
     },
     "execution_count": 20,
     "metadata": {},
     "output_type": "execute_result"
    }
   ],
   "source": [
    "print(LANGUAGES)\n",
    "df.sample(n=10)\n"
   ]
  },
  {
   "cell_type": "code",
   "execution_count": 3,
   "id": "44e22818",
   "metadata": {
    "pycharm": {
     "name": "#%%\n"
    }
   },
   "outputs": [
    {
     "data": {
      "text/html": [
       "<div>\n",
       "<style scoped>\n",
       "    .dataframe tbody tr th:only-of-type {\n",
       "        vertical-align: middle;\n",
       "    }\n",
       "\n",
       "    .dataframe tbody tr th {\n",
       "        vertical-align: top;\n",
       "    }\n",
       "\n",
       "    .dataframe thead th {\n",
       "        text-align: right;\n",
       "    }\n",
       "</style>\n",
       "<table border=\"1\" class=\"dataframe\">\n",
       "  <thead>\n",
       "    <tr style=\"text-align: right;\">\n",
       "      <th></th>\n",
       "      <th>author</th>\n",
       "      <th>language</th>\n",
       "      <th>text</th>\n",
       "      <th>tokenized_text</th>\n",
       "    </tr>\n",
       "  </thead>\n",
       "  <tbody>\n",
       "    <tr>\n",
       "      <th>0</th>\n",
       "      <td>llSourcell</td>\n",
       "      <td>Python</td>\n",
       "      <td>I feel like it would be more intuitive if we h...</td>\n",
       "      <td>[I, feel, like, it, would, be, more, intuitive...</td>\n",
       "    </tr>\n",
       "    <tr>\n",
       "      <th>1</th>\n",
       "      <td>llSourcell</td>\n",
       "      <td>Python</td>\n",
       "      <td>&lt;bountysource-plugin&gt; Want to back this issue?...</td>\n",
       "      <td>[&lt;, bountysource-plugin, &gt;, Want, to, back, th...</td>\n",
       "    </tr>\n",
       "    <tr>\n",
       "      <th>2</th>\n",
       "      <td>llSourcell</td>\n",
       "      <td>Python</td>\n",
       "      <td>@solaris33 game doesn't show up in the noteboo...</td>\n",
       "      <td>[@, solaris33, game, does, n't, show, up, in, ...</td>\n",
       "    </tr>\n",
       "    <tr>\n",
       "      <th>3</th>\n",
       "      <td>llSourcell</td>\n",
       "      <td>Python</td>\n",
       "      <td>yay &lt;bountysource-plugin&gt; Want to back this is...</td>\n",
       "      <td>[yay, &lt;, bountysource-plugin, &gt;, Want, to, bac...</td>\n",
       "    </tr>\n",
       "    <tr>\n",
       "      <th>4</th>\n",
       "      <td>CoreyMSchafer</td>\n",
       "      <td>Python</td>\n",
       "      <td>Link: Hi There, Your documentation for the new...</td>\n",
       "      <td>[Link, :, Hi, There, ,, Your, documentation, f...</td>\n",
       "    </tr>\n",
       "  </tbody>\n",
       "</table>\n",
       "</div>"
      ],
      "text/plain": [
       "          author language                                               text  \\\n",
       "0     llSourcell   Python  I feel like it would be more intuitive if we h...   \n",
       "1     llSourcell   Python  <bountysource-plugin> Want to back this issue?...   \n",
       "2     llSourcell   Python  @solaris33 game doesn't show up in the noteboo...   \n",
       "3     llSourcell   Python  yay <bountysource-plugin> Want to back this is...   \n",
       "4  CoreyMSchafer   Python  Link: Hi There, Your documentation for the new...   \n",
       "\n",
       "                                      tokenized_text  \n",
       "0  [I, feel, like, it, would, be, more, intuitive...  \n",
       "1  [<, bountysource-plugin, >, Want, to, back, th...  \n",
       "2  [@, solaris33, game, does, n't, show, up, in, ...  \n",
       "3  [yay, <, bountysource-plugin, >, Want, to, bac...  \n",
       "4  [Link, :, Hi, There, ,, Your, documentation, f...  "
      ]
     },
     "execution_count": 3,
     "metadata": {},
     "output_type": "execute_result"
    }
   ],
   "source": [
    "df['tokenized_text'] = df['text'].apply(word_tokenize)\n",
    "df.head()\n"
   ]
  },
  {
   "cell_type": "markdown",
   "id": "d7a2e282",
   "metadata": {
    "pycharm": {
     "name": "#%% md\n"
    }
   },
   "source": [
    "## Average text length"
   ]
  },
  {
   "cell_type": "code",
   "execution_count": 4,
   "id": "1382c8c3",
   "metadata": {
    "pycharm": {
     "name": "#%%\n"
    }
   },
   "outputs": [
    {
     "data": {
      "image/png": "[encoded data removed]",
      "text/plain": [
       "<Figure size 432x288 with 1 Axes>"
      ]
     },
     "metadata": {
      "needs_background": "light"
     },
     "output_type": "display_data"
    }
   ],
   "source": [
    "df['length'] = df['tokenized_text'].apply(len)\n",
    "\n",
    "means = [np.mean(df[df['language'] == lang]['length']) for lang in LANGUAGES]\n",
    "\n",
    "widths = [1, 2, 3, 4]\n",
    "plt.bar(widths, means, tick_label=LANGUAGES, width=0.8)\n",
    "plt.show()\n"
   ]
  },
  {
   "cell_type": "markdown",
   "id": "f3db4987",
   "metadata": {
    "pycharm": {
     "name": "#%% md\n"
    }
   },
   "source": [
    "## Average lexical diversity\n",
    "\n",
    "How diverse is vocabulary of a single entry?"
   ]
  },
  {
   "cell_type": "code",
   "execution_count": 5,
   "id": "82ad66b3",
   "metadata": {
    "pycharm": {
     "name": "#%%\n"
    }
   },
   "outputs": [],
   "source": [
    "def lexical_diversity(text):\n",
    "    return len(set(text)) / len(text)\n",
    "\n",
    "\n",
    "def percentage(count, total):\n",
    "    return 100 * count / total\n"
   ]
  },
  {
   "cell_type": "code",
   "execution_count": 6,
   "id": "20e4d263",
   "metadata": {
    "pycharm": {
     "name": "#%%\n"
    }
   },
   "outputs": [],
   "source": [
    "df['lex_div'] = df['text'].apply(lexical_diversity)\n"
   ]
  },
  {
   "cell_type": "code",
   "execution_count": 7,
   "id": "634171aa",
   "metadata": {
    "pycharm": {
     "name": "#%%\n"
    }
   },
   "outputs": [
    {
     "data": {
      "image/png": "[encoded data removed]",
      "text/plain": [
       "<Figure size 432x288 with 1 Axes>"
      ]
     },
     "metadata": {
      "needs_background": "light"
     },
     "output_type": "display_data"
    }
   ],
   "source": [
    "means = [np.mean(df[df['language'] == lang]['lex_div']) for lang in LANGUAGES]\n",
    "\n",
    "plt.bar(widths, means, tick_label=LANGUAGES, width=0.8)\n",
    "plt.show()\n"
   ]
  },
  {
   "cell_type": "markdown",
   "id": "27632123",
   "metadata": {
    "pycharm": {
     "name": "#%% md\n"
    }
   },
   "source": [
    "## Total lexical diversity\n",
    "\n",
    "How all enries are similar to each other?"
   ]
  },
  {
   "cell_type": "code",
   "execution_count": 8,
   "id": "7de67942",
   "metadata": {
    "pycharm": {
     "name": "#%%\n"
    }
   },
   "outputs": [],
   "source": [
    "whole = [' '.join(df[df['language'] == lang]['text']) for lang in LANGUAGES]\n"
   ]
  },
  {
   "cell_type": "code",
   "execution_count": 9,
   "id": "c9fe4424",
   "metadata": {
    "pycharm": {
     "name": "#%%\n"
    }
   },
   "outputs": [
    {
     "data": {
      "image/png": "[encoded data removed]",
      "text/plain": [
       "<Figure size 432x288 with 1 Axes>"
      ]
     },
     "metadata": {
      "needs_background": "light"
     },
     "output_type": "display_data"
    }
   ],
   "source": [
    "divs = [lexical_diversity(x) for x in whole]\n",
    "plt.bar(widths, divs, tick_label=LANGUAGES, width=0.8)\n",
    "plt.show()\n"
   ]
  },
  {
   "cell_type": "markdown",
   "id": "8642127d",
   "metadata": {
    "pycharm": {
     "name": "#%% md\n"
    }
   },
   "source": [
    "## Average word length"
   ]
  },
  {
   "cell_type": "code",
   "execution_count": 10,
   "id": "4722c334",
   "metadata": {
    "pycharm": {
     "name": "#%%\n"
    }
   },
   "outputs": [],
   "source": [
    "def average(words):\n",
    "    return (sum(len(word) for word in words) / len(words))\n"
   ]
  },
  {
   "cell_type": "code",
   "execution_count": 11,
   "id": "f88b6c0a",
   "metadata": {
    "pycharm": {
     "name": "#%%\n"
    }
   },
   "outputs": [],
   "source": [
    "df['word_length'] = df['tokenized_text'].apply(average)\n"
   ]
  },
  {
   "cell_type": "code",
   "execution_count": 12,
   "id": "1493cca9",
   "metadata": {
    "pycharm": {
     "name": "#%%\n"
    }
   },
   "outputs": [
    {
     "data": {
      "image/png": "[encoded data removed]",
      "text/plain": [
       "<Figure size 432x288 with 1 Axes>"
      ]
     },
     "metadata": {
      "needs_background": "light"
     },
     "output_type": "display_data"
    }
   ],
   "source": [
    "means = [np.mean(df[df['language'] == lang]['word_length'])\n",
    "         for lang in LANGUAGES]\n",
    "plt.bar(widths, means, tick_label=LANGUAGES, width=0.8)\n",
    "plt.show()\n"
   ]
  },
  {
   "cell_type": "markdown",
   "id": "b4c6a0dc",
   "metadata": {
    "pycharm": {
     "name": "#%% md\n"
    }
   },
   "source": [
    "## Count of words over 10 characters"
   ]
  },
  {
   "cell_type": "code",
   "execution_count": 13,
   "id": "84f82221",
   "metadata": {
    "pycharm": {
     "name": "#%%\n"
    }
   },
   "outputs": [],
   "source": [
    "def words_over_10(words):\n",
    "    sum = 0\n",
    "    for word in words:\n",
    "        if len(word) >= 10:\n",
    "            sum += 1\n",
    "    return sum\n"
   ]
  },
  {
   "cell_type": "code",
   "execution_count": 14,
   "id": "3dadf1c5",
   "metadata": {
    "pycharm": {
     "name": "#%%\n"
    }
   },
   "outputs": [],
   "source": [
    "df['long_words'] = df['tokenized_text'].apply(words_over_10)\n"
   ]
  },
  {
   "cell_type": "code",
   "execution_count": 15,
   "id": "3b95b184",
   "metadata": {
    "pycharm": {
     "name": "#%%\n"
    },
    "scrolled": true
   },
   "outputs": [
    {
     "data": {
      "image/png": "[encoded data removed]",
      "text/plain": [
       "<Figure size 432x288 with 1 Axes>"
      ]
     },
     "metadata": {
      "needs_background": "light"
     },
     "output_type": "display_data"
    }
   ],
   "source": [
    "sums = [np.sum(df[df['language'] == lang]['long_words']) for lang in LANGUAGES]\n",
    "plt.bar(widths, sums, tick_label=LANGUAGES, width=0.8)\n",
    "plt.show()\n"
   ]
  },
  {
   "cell_type": "markdown",
   "id": "4665ffd1",
   "metadata": {
    "pycharm": {
     "name": "#%% md\n"
    }
   },
   "source": [
    "## Frequency distribution"
   ]
  },
  {
   "cell_type": "code",
   "execution_count": 22,
   "id": "8e78c32a",
   "metadata": {
    "pycharm": {
     "name": "#%%\n"
    }
   },
   "outputs": [],
   "source": [
    "from nltk import FreqDist\n",
    "\n",
    "\n",
    "def get_freq_dist(tokenized_text_series: pd.Series) -> FreqDist:\n",
    "    return FreqDist(w for text in tokenized_text_series.values for w in text)\n"
   ]
  },
  {
   "cell_type": "code",
   "execution_count": 36,
   "metadata": {
    "collapsed": false,
    "pycharm": {
     "name": "#%%\n"
    }
   },
   "outputs": [
    {
     "data": {
      "image/png": "[encoded data removed]",
      "text/plain": [
       "<Figure size 432x288 with 1 Axes>"
      ]
     },
     "metadata": {
      "needs_background": "light"
     },
     "output_type": "display_data"
    },
    {
     "data": {
      "image/png": "[encoded data removed]",
      "text/plain": [
       "<Figure size 432x288 with 1 Axes>"
      ]
     },
     "metadata": {
      "needs_background": "light"
     },
     "output_type": "display_data"
    },
    {
     "data": {
      "image/png": "[encoded data removed]",
      "text/plain": [
       "<Figure size 432x288 with 1 Axes>"
      ]
     },
     "metadata": {
      "needs_background": "light"
     },
     "output_type": "display_data"
    },
    {
     "data": {
      "image/png": "[encoded data removed]",
      "text/plain": [
       "<Figure size 432x288 with 1 Axes>"
      ]
     },
     "metadata": {
      "needs_background": "light"
     },
     "output_type": "display_data"
    }
   ],
   "source": [
    "freq_dists = [(lang, get_freq_dist(df[df['language'] == lang]\n",
    "               ['tokenized_text'])) for lang in LANGUAGES]\n",
    "\n",
    "for (lang, dist) in freq_dists:\n",
    "    dist.plot(20, cumulative=True, title=lang)\n"
   ]
  },
  {
   "cell_type": "code",
   "execution_count": 31,
   "id": "30be3cd2",
   "metadata": {
    "pycharm": {
     "name": "#%%\n"
    }
   },
   "outputs": [
    {
     "name": "stdout",
     "output_type": "stream",
     "text": [
      "great;\n"
     ]
    }
   ],
   "source": [
    "print(whole[0].split()[100])"
   ]
  },
  {
   "cell_type": "code",
   "execution_count": 33,
   "id": "140f8400",
   "metadata": {
    "pycharm": {
     "name": "#%%\n"
    }
   },
   "outputs": [
    {
     "data": {
      "text/plain": [
       "196259"
      ]
     },
     "execution_count": 33,
     "metadata": {},
     "output_type": "execute_result"
    }
   ],
   "source": [
    "len(set(whole[1].split()))"
   ]
  },
  {
   "cell_type": "code",
   "execution_count": 35,
   "id": "1694b09f",
   "metadata": {
    "pycharm": {
     "name": "#%%\n"
    }
   },
   "outputs": [
    {
     "data": {
      "text/plain": [
       "136334"
      ]
     },
     "execution_count": 35,
     "metadata": {},
     "output_type": "execute_result"
    }
   ],
   "source": [
    "len(set(word_tokenize(whole[1])))\n"
   ]
  }
 ],
 "metadata": {
  "interpreter": {
   "hash": "12b19673986d4010ba67c425cb0c5a822ac6ff18cb17f699860be4870fa5856d"
  },
  "kernelspec": {
   "display_name": "Python 3.10.4 ('analysis-q8SqN7H1')",
   "language": "python",
   "name": "python3"
  },
  "language_info": {
   "codemirror_mode": {
    "name": "ipython",
    "version": 3
   },
   "file_extension": ".py",
   "mimetype": "text/x-python",
   "name": "python",
   "nbconvert_exporter": "python",
   "pygments_lexer": "ipython3",
   "version": "3.10.4"
  }
 },
 "nbformat": 4,
 "nbformat_minor": 5
}
