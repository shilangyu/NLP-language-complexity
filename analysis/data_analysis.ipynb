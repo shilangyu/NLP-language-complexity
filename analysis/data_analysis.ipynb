{
 "cells": [
  {
   "cell_type": "markdown",
   "id": "f801927a",
   "metadata": {},
   "source": [
    "# Natural language analysis\n",
    "\n",
    "First, the previously prepared dataset is downloaded and parsed into a dataframe."
   ]
  },
  {
   "cell_type": "code",
   "execution_count": 1,
   "id": "28ee10d5",
   "metadata": {
    "pycharm": {
     "name": "#%%\n"
    }
   },
   "outputs": [
    {
     "data": {
      "application/vnd.jupyter.widget-view+json": {
       "model_id": "d7ec9bd784c64e5f9660719660edaf8d",
       "version_major": 2,
       "version_minor": 0
      },
      "text/plain": [
       "Downloading dataset:   0%|          | 0/27813844 [00:00<?, ?it/s]"
      ]
     },
     "metadata": {},
     "output_type": "display_data"
    }
   ],
   "source": [
    "import pandas as pd\n",
    "from matplotlib import pyplot as plt\n",
    "import numpy as np\n",
    "from pathlib import Path\n",
    "import os\n",
    "import nltk\n",
    "from nltk import word_tokenize\n",
    "from tqdm.auto import tqdm\n",
    "import shutil\n",
    "\n",
    "dataset_path = Path('issues.csv.gz')\n",
    "\n",
    "# download dataset if not already present\n",
    "if not dataset_path.exists():\n",
    "    import requests\n",
    "\n",
    "    with requests.get('https://vps-cd52fe2c.vps.ovh.net/nlp/issues.csv.gz', stream=True) as r:\n",
    "        content_length = int(r.headers.get(\"Content-Length\"))\n",
    "\n",
    "        with tqdm.wrapattr(r.raw, 'read', total=content_length, desc='Downloading dataset') as raw:\n",
    "            with open(dataset_path, 'wb') as f:\n",
    "                shutil.copyfileobj(raw, f)\n",
    "\n",
    "df = pd.read_csv(dataset_path, keep_default_na=False)\n",
    "LANGUAGES = df['language'].unique()\n"
   ]
  },
  {
   "cell_type": "markdown",
   "id": "168cda9f",
   "metadata": {},
   "source": [
    "We will be operating on 4 classes defined by the programming language."
   ]
  },
  {
   "cell_type": "code",
   "execution_count": 2,
   "id": "38769663",
   "metadata": {
    "pycharm": {
     "name": "#%%\n"
    }
   },
   "outputs": [
    {
     "name": "stdout",
     "output_type": "stream",
     "text": [
      "['Python' 'C' 'Javascript' 'Go']\n"
     ]
    },
    {
     "data": {
      "text/html": [
       "<div>\n",
       "<style scoped>\n",
       "    .dataframe tbody tr th:only-of-type {\n",
       "        vertical-align: middle;\n",
       "    }\n",
       "\n",
       "    .dataframe tbody tr th {\n",
       "        vertical-align: top;\n",
       "    }\n",
       "\n",
       "    .dataframe thead th {\n",
       "        text-align: right;\n",
       "    }\n",
       "</style>\n",
       "<table border=\"1\" class=\"dataframe\">\n",
       "  <thead>\n",
       "    <tr style=\"text-align: right;\">\n",
       "      <th></th>\n",
       "      <th>author</th>\n",
       "      <th>language</th>\n",
       "      <th>text</th>\n",
       "    </tr>\n",
       "  </thead>\n",
       "  <tbody>\n",
       "    <tr>\n",
       "      <th>156628</th>\n",
       "      <td>aybabtme</td>\n",
       "      <td>Go</td>\n",
       "      <td>The duration of a turn is given in the JSON re...</td>\n",
       "    </tr>\n",
       "    <tr>\n",
       "      <th>13598</th>\n",
       "      <td>ericmjl</td>\n",
       "      <td>Python</td>\n",
       "      <td>@mwaskom referencing re: ECDFs; I have a simpl...</td>\n",
       "    </tr>\n",
       "    <tr>\n",
       "      <th>43136</th>\n",
       "      <td>taviso</td>\n",
       "      <td>C</td>\n",
       "      <td>I'm trying to use the console application , it...</td>\n",
       "    </tr>\n",
       "    <tr>\n",
       "      <th>154771</th>\n",
       "      <td>elithrar</td>\n",
       "      <td>Go</td>\n",
       "      <td>Web.go has been fantastic, but one thing I mis...</td>\n",
       "    </tr>\n",
       "    <tr>\n",
       "      <th>156114</th>\n",
       "      <td>ebuchman</td>\n",
       "      <td>Go</td>\n",
       "      <td>Serialization issues have been a constant plag...</td>\n",
       "    </tr>\n",
       "    <tr>\n",
       "      <th>109761</th>\n",
       "      <td>mmistakes</td>\n",
       "      <td>Javascript</td>\n",
       "      <td>Page displaying this bug</td>\n",
       "    </tr>\n",
       "    <tr>\n",
       "      <th>16415</th>\n",
       "      <td>merveenoyan</td>\n",
       "      <td>Python</td>\n",
       "      <td>I want to use pre-trained embeddings of spaCy ...</td>\n",
       "    </tr>\n",
       "    <tr>\n",
       "      <th>70283</th>\n",
       "      <td>daniel-koehn</td>\n",
       "      <td>C</td>\n",
       "      <td>There are still some issues related to the gra...</td>\n",
       "    </tr>\n",
       "    <tr>\n",
       "      <th>18706</th>\n",
       "      <td>dfm</td>\n",
       "      <td>Python</td>\n",
       "      <td>This could be huge!</td>\n",
       "    </tr>\n",
       "    <tr>\n",
       "      <th>58773</th>\n",
       "      <td>guidovranken</td>\n",
       "      <td>C</td>\n",
       "      <td>I've written a libFuzzer-based fuzzer for Ethe...</td>\n",
       "    </tr>\n",
       "  </tbody>\n",
       "</table>\n",
       "</div>"
      ],
      "text/plain": [
       "              author    language  \\\n",
       "156628      aybabtme          Go   \n",
       "13598        ericmjl      Python   \n",
       "43136         taviso           C   \n",
       "154771      elithrar          Go   \n",
       "156114      ebuchman          Go   \n",
       "109761     mmistakes  Javascript   \n",
       "16415    merveenoyan      Python   \n",
       "70283   daniel-koehn           C   \n",
       "18706            dfm      Python   \n",
       "58773   guidovranken           C   \n",
       "\n",
       "                                                     text  \n",
       "156628  The duration of a turn is given in the JSON re...  \n",
       "13598   @mwaskom referencing re: ECDFs; I have a simpl...  \n",
       "43136   I'm trying to use the console application , it...  \n",
       "154771  Web.go has been fantastic, but one thing I mis...  \n",
       "156114  Serialization issues have been a constant plag...  \n",
       "109761                           Page displaying this bug  \n",
       "16415   I want to use pre-trained embeddings of spaCy ...  \n",
       "70283   There are still some issues related to the gra...  \n",
       "18706                                 This could be huge!  \n",
       "58773   I've written a libFuzzer-based fuzzer for Ethe...  "
      ]
     },
     "execution_count": 2,
     "metadata": {},
     "output_type": "execute_result"
    }
   ],
   "source": [
    "print(LANGUAGES)\n",
    "df.sample(n=10)\n"
   ]
  },
  {
   "cell_type": "markdown",
   "id": "49a6ef4b",
   "metadata": {},
   "source": [
    "We begin by tokenizing the normalizing the raw text from issues."
   ]
  },
  {
   "cell_type": "code",
   "execution_count": 3,
   "id": "44e22818",
   "metadata": {
    "pycharm": {
     "name": "#%%\n"
    }
   },
   "outputs": [
    {
     "data": {
      "text/html": [
       "<div>\n",
       "<style scoped>\n",
       "    .dataframe tbody tr th:only-of-type {\n",
       "        vertical-align: middle;\n",
       "    }\n",
       "\n",
       "    .dataframe tbody tr th {\n",
       "        vertical-align: top;\n",
       "    }\n",
       "\n",
       "    .dataframe thead th {\n",
       "        text-align: right;\n",
       "    }\n",
       "</style>\n",
       "<table border=\"1\" class=\"dataframe\">\n",
       "  <thead>\n",
       "    <tr style=\"text-align: right;\">\n",
       "      <th></th>\n",
       "      <th>author</th>\n",
       "      <th>language</th>\n",
       "      <th>text</th>\n",
       "      <th>tokenized_text</th>\n",
       "    </tr>\n",
       "  </thead>\n",
       "  <tbody>\n",
       "    <tr>\n",
       "      <th>0</th>\n",
       "      <td>llSourcell</td>\n",
       "      <td>Python</td>\n",
       "      <td>I get the following error when i attempt to tr...</td>\n",
       "      <td>[I, get, the, following, error, when, i, attem...</td>\n",
       "    </tr>\n",
       "    <tr>\n",
       "      <th>1</th>\n",
       "      <td>llSourcell</td>\n",
       "      <td>Python</td>\n",
       "      <td>won't compile. output below bash-3.2# make Mak...</td>\n",
       "      <td>[wo, n't, compile, ., output, below, bash-3.2,...</td>\n",
       "    </tr>\n",
       "    <tr>\n",
       "      <th>2</th>\n",
       "      <td>llSourcell</td>\n",
       "      <td>Python</td>\n",
       "      <td>I get this error when i attemp to build the co...</td>\n",
       "      <td>[I, get, this, error, when, i, attemp, to, bui...</td>\n",
       "    </tr>\n",
       "    <tr>\n",
       "      <th>3</th>\n",
       "      <td>llSourcell</td>\n",
       "      <td>Python</td>\n",
       "      <td>i couldn't find an instance on AWS called 'ami...</td>\n",
       "      <td>[i, could, n't, find, an, instance, on, AWS, c...</td>\n",
       "    </tr>\n",
       "    <tr>\n",
       "      <th>4</th>\n",
       "      <td>llSourcell</td>\n",
       "      <td>Python</td>\n",
       "      <td>Error below. Any ideas? dyn-160-39-195-144:wal...</td>\n",
       "      <td>[Error, below, ., Any, ideas, ?, dyn-160-39-19...</td>\n",
       "    </tr>\n",
       "  </tbody>\n",
       "</table>\n",
       "</div>"
      ],
      "text/plain": [
       "       author language                                               text  \\\n",
       "0  llSourcell   Python  I get the following error when i attempt to tr...   \n",
       "1  llSourcell   Python  won't compile. output below bash-3.2# make Mak...   \n",
       "2  llSourcell   Python  I get this error when i attemp to build the co...   \n",
       "3  llSourcell   Python  i couldn't find an instance on AWS called 'ami...   \n",
       "4  llSourcell   Python  Error below. Any ideas? dyn-160-39-195-144:wal...   \n",
       "\n",
       "                                      tokenized_text  \n",
       "0  [I, get, the, following, error, when, i, attem...  \n",
       "1  [wo, n't, compile, ., output, below, bash-3.2,...  \n",
       "2  [I, get, this, error, when, i, attemp, to, bui...  \n",
       "3  [i, could, n't, find, an, instance, on, AWS, c...  \n",
       "4  [Error, below, ., Any, ideas, ?, dyn-160-39-19...  "
      ]
     },
     "execution_count": 3,
     "metadata": {},
     "output_type": "execute_result"
    }
   ],
   "source": [
    "df['tokenized_text'] = df['text'].apply(word_tokenize)\n",
    "df.head()\n"
   ]
  },
  {
   "cell_type": "code",
   "execution_count": 4,
   "id": "cecbaa43",
   "metadata": {
    "pycharm": {
     "name": "#%%\n"
    }
   },
   "outputs": [
    {
     "name": "stderr",
     "output_type": "stream",
     "text": [
      "[nltk_data] Downloading package wordnet to\n",
      "[nltk_data]     /Users/marcinwojnarowski/nltk_data...\n",
      "[nltk_data]   Package wordnet is already up-to-date!\n"
     ]
    }
   ],
   "source": [
    "from nltk.corpus import stopwords\n",
    "import nltk\n",
    "\n",
    "nltk.download('wordnet')\n",
    "sw = set(stopwords.words('english'))\n",
    "\n",
    "\n",
    "def normalize_words(words: list[str]) -> list[str]:\n",
    "    tokens = (\n",
    "        # Make all words lowercase\n",
    "        word.lower()\n",
    "        for word in words\n",
    "        # Remove punctuations\n",
    "        if word.isalpha())\n",
    "    # Remove stopwords\n",
    "    tokens = [word for word in tokens if not word in sw]\n",
    "\n",
    "    return tokens\n"
   ]
  },
  {
   "cell_type": "code",
   "execution_count": 5,
   "id": "808a6c36",
   "metadata": {
    "pycharm": {
     "name": "#%%\n"
    },
    "scrolled": true
   },
   "outputs": [
    {
     "data": {
      "text/html": [
       "<div>\n",
       "<style scoped>\n",
       "    .dataframe tbody tr th:only-of-type {\n",
       "        vertical-align: middle;\n",
       "    }\n",
       "\n",
       "    .dataframe tbody tr th {\n",
       "        vertical-align: top;\n",
       "    }\n",
       "\n",
       "    .dataframe thead th {\n",
       "        text-align: right;\n",
       "    }\n",
       "</style>\n",
       "<table border=\"1\" class=\"dataframe\">\n",
       "  <thead>\n",
       "    <tr style=\"text-align: right;\">\n",
       "      <th></th>\n",
       "      <th>author</th>\n",
       "      <th>language</th>\n",
       "      <th>text</th>\n",
       "      <th>tokenized_text</th>\n",
       "      <th>normalized_text</th>\n",
       "    </tr>\n",
       "  </thead>\n",
       "  <tbody>\n",
       "    <tr>\n",
       "      <th>0</th>\n",
       "      <td>llSourcell</td>\n",
       "      <td>Python</td>\n",
       "      <td>I get the following error when i attempt to tr...</td>\n",
       "      <td>[I, get, the, following, error, when, i, attem...</td>\n",
       "      <td>[get, following, error, attempt, train, networ...</td>\n",
       "    </tr>\n",
       "    <tr>\n",
       "      <th>1</th>\n",
       "      <td>llSourcell</td>\n",
       "      <td>Python</td>\n",
       "      <td>won't compile. output below bash-3.2# make Mak...</td>\n",
       "      <td>[wo, n't, compile, ., output, below, bash-3.2,...</td>\n",
       "      <td>[wo, compile, output, make, making, src, makin...</td>\n",
       "    </tr>\n",
       "    <tr>\n",
       "      <th>2</th>\n",
       "      <td>llSourcell</td>\n",
       "      <td>Python</td>\n",
       "      <td>I get this error when i attemp to build the co...</td>\n",
       "      <td>[I, get, this, error, when, i, attemp, to, bui...</td>\n",
       "      <td>[get, error, attemp, build, code, ideas]</td>\n",
       "    </tr>\n",
       "    <tr>\n",
       "      <th>3</th>\n",
       "      <td>llSourcell</td>\n",
       "      <td>Python</td>\n",
       "      <td>i couldn't find an instance on AWS called 'ami...</td>\n",
       "      <td>[i, could, n't, find, an, instance, on, AWS, c...</td>\n",
       "      <td>[could, find, instance, aws, called, link, one]</td>\n",
       "    </tr>\n",
       "    <tr>\n",
       "      <th>4</th>\n",
       "      <td>llSourcell</td>\n",
       "      <td>Python</td>\n",
       "      <td>Error below. Any ideas? dyn-160-39-195-144:wal...</td>\n",
       "      <td>[Error, below, ., Any, ideas, ?, dyn-160-39-19...</td>\n",
       "      <td>[error, ideas, jasonravel, build, failure, bui...</td>\n",
       "    </tr>\n",
       "  </tbody>\n",
       "</table>\n",
       "</div>"
      ],
      "text/plain": [
       "       author language                                               text  \\\n",
       "0  llSourcell   Python  I get the following error when i attempt to tr...   \n",
       "1  llSourcell   Python  won't compile. output below bash-3.2# make Mak...   \n",
       "2  llSourcell   Python  I get this error when i attemp to build the co...   \n",
       "3  llSourcell   Python  i couldn't find an instance on AWS called 'ami...   \n",
       "4  llSourcell   Python  Error below. Any ideas? dyn-160-39-195-144:wal...   \n",
       "\n",
       "                                      tokenized_text  \\\n",
       "0  [I, get, the, following, error, when, i, attem...   \n",
       "1  [wo, n't, compile, ., output, below, bash-3.2,...   \n",
       "2  [I, get, this, error, when, i, attemp, to, bui...   \n",
       "3  [i, could, n't, find, an, instance, on, AWS, c...   \n",
       "4  [Error, below, ., Any, ideas, ?, dyn-160-39-19...   \n",
       "\n",
       "                                     normalized_text  \n",
       "0  [get, following, error, attempt, train, networ...  \n",
       "1  [wo, compile, output, make, making, src, makin...  \n",
       "2           [get, error, attemp, build, code, ideas]  \n",
       "3    [could, find, instance, aws, called, link, one]  \n",
       "4  [error, ideas, jasonravel, build, failure, bui...  "
      ]
     },
     "execution_count": 5,
     "metadata": {},
     "output_type": "execute_result"
    }
   ],
   "source": [
    "df['normalized_text'] = df['tokenized_text'].apply(normalize_words)\n",
    "df.head()"
   ]
  },
  {
   "cell_type": "markdown",
   "id": "d7a2e282",
   "metadata": {
    "pycharm": {
     "name": "#%% md\n"
    }
   },
   "source": [
    "## Basic analysis\n",
    "\n",
    "Next, we proceed with a series of basic analysis of individual languages and note the differences.\n",
    "\n",
    "### Average text length\n",
    "\n",
    "What is the average length (in the amount of words) of an issue?\n",
    "\n",
    "Here, nothing interesting is noticed."
   ]
  },
  {
   "cell_type": "code",
   "execution_count": 142,
   "id": "1382c8c3",
   "metadata": {
    "pycharm": {
     "name": "#%%\n"
    }
   },
   "outputs": [
    {
     "data": {
      "image/png": "[encoded data removed]",
      "text/plain": [
       "<Figure size 432x288 with 1 Axes>"
      ]
     },
     "metadata": {
      "needs_background": "light"
     },
     "output_type": "display_data"
    }
   ],
   "source": [
    "df['length'] = df['tokenized_text'].apply(len)\n",
    "\n",
    "means = [np.mean(df[df['language'] == lang]['length']) for lang in LANGUAGES]\n",
    "\n",
    "plt.bar(LANGUAGES, means)\n",
    "plt.xlabel(\"Language\")\n",
    "plt.ylabel(\"Text length [# of words]\")\n",
    "plt.suptitle(\"Average text length\")\n",
    "plt.show()\n"
   ]
  },
  {
   "cell_type": "markdown",
   "id": "f3db4987",
   "metadata": {
    "pycharm": {
     "name": "#%% md\n"
    }
   },
   "source": [
    "### Average lexical diversity\n",
    "\n",
    "How diverse is the vocabulary of a single entry?\n",
    "\n",
    "Again, on a local scale no difference can be observed."
   ]
  },
  {
   "cell_type": "code",
   "execution_count": 133,
   "id": "20e4d263",
   "metadata": {
    "pycharm": {
     "name": "#%%\n"
    }
   },
   "outputs": [],
   "source": [
    "def lexical_diversity(text: list[str]) -> float:\n",
    "    if len(text) == 0:\n",
    "        return 1\n",
    "    return len(set(text)) / len(text)\n",
    "\n",
    "\n",
    "df['lex_div'] = df['normalized_text'].apply(lexical_diversity)"
   ]
  },
  {
   "cell_type": "code",
   "execution_count": 143,
   "id": "634171aa",
   "metadata": {
    "pycharm": {
     "name": "#%%\n"
    }
   },
   "outputs": [
    {
     "data": {
      "image/png": "[encoded data removed]",
      "text/plain": [
       "<Figure size 432x288 with 1 Axes>"
      ]
     },
     "metadata": {
      "needs_background": "light"
     },
     "output_type": "display_data"
    }
   ],
   "source": [
    "means = [np.mean(df[df['language'] == lang]['lex_div']) for lang in LANGUAGES]\n",
    "\n",
    "plt.bar(LANGUAGES, means)\n",
    "plt.xlabel(\"Language\")\n",
    "plt.ylabel(\"Lexical diversity [100%]\")\n",
    "plt.suptitle(\"Average local lexical diversity\")\n",
    "plt.show()\n"
   ]
  },
  {
   "cell_type": "markdown",
   "id": "27632123",
   "metadata": {
    "pycharm": {
     "name": "#%% md\n"
    }
   },
   "source": [
    "### Total lexical diversity\n",
    "\n",
    "How diverse is the vocabulary over all texts grouped by language?\n",
    "\n",
    "Here, C shows an almost 1.5% greater lexical diversity than Javascript and Golang. This could be due to the fact that C discussions often involve the mention of more cryptic library names, compiler flags, syscalls, etc. On the other hand, in the Golang and Javascript ecosystem things are often named using the natural language and thus blending in more uniformly into English which then do not increase the lexical diversity."
   ]
  },
  {
   "cell_type": "code",
   "execution_count": 135,
   "id": "7de67942",
   "metadata": {
    "pycharm": {
     "name": "#%%\n"
    }
   },
   "outputs": [],
   "source": [
    "def lexical_diversity_whole(texts: pd.Series) -> float:\n",
    "    words = set(\n",
    "        w\n",
    "        for text in texts.values\n",
    "        for w in text\n",
    "    )\n",
    "\n",
    "    return len(words) / texts.apply(len).sum()\n"
   ]
  },
  {
   "cell_type": "code",
   "execution_count": 145,
   "id": "c9fe4424",
   "metadata": {
    "pycharm": {
     "name": "#%%\n"
    }
   },
   "outputs": [
    {
     "data": {
      "image/png": "[encoded data removed]",
      "text/plain": [
       "<Figure size 432x288 with 1 Axes>"
      ]
     },
     "metadata": {
      "needs_background": "light"
     },
     "output_type": "display_data"
    }
   ],
   "source": [
    "divs = [\n",
    "    lexical_diversity_whole(df[df['language'] == lang]['normalized_text'])\n",
    "    for lang in LANGUAGES]\n",
    "\n",
    "plt.bar(LANGUAGES, divs)\n",
    "plt.xlabel(\"Language\")\n",
    "plt.ylabel(\"Lexical diversity [100%]\")\n",
    "plt.suptitle(\"Total lexical diversity\")\n",
    "plt.show()\n"
   ]
  },
  {
   "cell_type": "markdown",
   "id": "8642127d",
   "metadata": {
    "pycharm": {
     "name": "#%% md\n"
    }
   },
   "source": [
    "### Average word length\n",
    "\n",
    "What is the average word length?\n",
    "\n",
    "C and Golang show a higher average, but the difference is too small to have any statistical significance. The average of slightly above 4 aligns with the english average of 4.7 (source: http://norvig.com/mayzner.html)."
   ]
  },
  {
   "cell_type": "code",
   "execution_count": 153,
   "id": "1493cca9",
   "metadata": {
    "pycharm": {
     "name": "#%%\n"
    }
   },
   "outputs": [
    {
     "data": {
      "image/png": "[encoded data removed]",
      "text/plain": [
       "<Figure size 432x288 with 1 Axes>"
      ]
     },
     "metadata": {
      "needs_background": "light"
     },
     "output_type": "display_data"
    }
   ],
   "source": [
    "def average_word_length(df: pd.DataFrame, lang: str) -> float:\n",
    "    lens = []\n",
    "    for t in df[df['language'] == lang]['tokenized_text']:\n",
    "        for w in t:\n",
    "            lens.append(len(w))\n",
    "            \n",
    "    return np.mean(lens)\n",
    "\n",
    "\n",
    "means = [average_word_length(df, lang) for lang in LANGUAGES]\n",
    "\n",
    "plt.bar(LANGUAGES, means)\n",
    "plt.xlabel(\"Language\")\n",
    "plt.ylabel(\"Word length [characters]\")\n",
    "plt.suptitle(\"Average word length\")\n",
    "plt.show()\n"
   ]
  },
  {
   "cell_type": "markdown",
   "id": "b4c6a0dc",
   "metadata": {
    "pycharm": {
     "name": "#%% md\n"
    }
   },
   "source": [
    "### Percentage of long words\n",
    "\n",
    "Are longer words more common in different classes?\n",
    "\n",
    "For the tested lengths, Javascript shows a lower percentage of longer words than other classes. C and Go equally exert a higher frequency of longer words compared to other classes."
   ]
  },
  {
   "cell_type": "code",
   "execution_count": 179,
   "id": "84f82221",
   "metadata": {
    "pycharm": {
     "name": "#%%\n"
    }
   },
   "outputs": [],
   "source": [
    "def frac_words_over(words: list[str], lang: str, length: int) -> int:\n",
    "    texts = df[df['language'] == lang]['tokenized_text']\n",
    "    count = 0\n",
    "    for t in texts:\n",
    "        for w in t:\n",
    "            if len(w) >= length:\n",
    "                count += 1\n",
    "            \n",
    "    return count / texts.apply(len).sum()\n"
   ]
  },
  {
   "cell_type": "code",
   "execution_count": 180,
   "id": "3b95b184",
   "metadata": {
    "pycharm": {
     "name": "#%%\n"
    },
    "scrolled": true
   },
   "outputs": [
    {
     "data": {
      "image/png": "[encoded data removed]",
      "text/plain": [
       "<Figure size 432x288 with 1 Axes>"
      ]
     },
     "metadata": {
      "needs_background": "light"
     },
     "output_type": "display_data"
    }
   ],
   "source": [
    "lens = [8, 9, 10, 11]\n",
    "\n",
    "fracs = [[frac_words_over(df, lang, l) for lang in LANGUAGES] for l in lens]\n",
    "\n",
    "\n",
    "bar_width = 0.2\n",
    "\n",
    "for (i, (l, frac)) in enumerate(zip(lens, fracs)):\n",
    "    plt.bar([x + bar_width*i for x in range(len(LANGUAGES))], frac, width=bar_width, label=l)\n",
    "\n",
    "plt.xlabel('Language')\n",
    "plt.ylabel('Fraction of words of length or longer [100%]')\n",
    "plt.xticks([r + (len(lens)/2 - 0.5) * bar_width for r in range(len(LANGUAGES))], LANGUAGES)\n",
    "plt.legend()\n",
    "plt.show()\n"
   ]
  },
  {
   "cell_type": "markdown",
   "id": "4665ffd1",
   "metadata": {
    "pycharm": {
     "name": "#%% md\n"
    }
   },
   "source": [
    "### Word frequency distribution\n",
    "\n",
    "Next the most common words are analysed to find some pattern."
   ]
  },
  {
   "cell_type": "code",
   "execution_count": 181,
   "id": "8e78c32a",
   "metadata": {
    "pycharm": {
     "name": "#%%\n"
    }
   },
   "outputs": [],
   "source": [
    "from nltk import FreqDist\n",
    "\n",
    "\n",
    "def get_freq_dist(tokenized_text_series: pd.Series) -> FreqDist:\n",
    "    return FreqDist(w for text in tokenized_text_series.values for w in text)\n"
   ]
  },
  {
   "cell_type": "code",
   "execution_count": 182,
   "id": "1fcb2add",
   "metadata": {
    "pycharm": {
     "name": "#%%\n"
    }
   },
   "outputs": [
    {
     "data": {
      "image/png": "[encoded data removed]",
      "text/plain": [
       "<Figure size 432x288 with 1 Axes>"
      ]
     },
     "metadata": {
      "needs_background": "light"
     },
     "output_type": "display_data"
    },
    {
     "data": {
      "image/png": "[encoded data removed]",
      "text/plain": [
       "<Figure size 432x288 with 1 Axes>"
      ]
     },
     "metadata": {
      "needs_background": "light"
     },
     "output_type": "display_data"
    },
    {
     "data": {
      "image/png": "[encoded data removed]",
      "text/plain": [
       "<Figure size 432x288 with 1 Axes>"
      ]
     },
     "metadata": {
      "needs_background": "light"
     },
     "output_type": "display_data"
    },
    {
     "data": {
      "image/png": "[encoded data removed]",
      "text/plain": [
       "<Figure size 432x288 with 1 Axes>"
      ]
     },
     "metadata": {
      "needs_background": "light"
     },
     "output_type": "display_data"
    }
   ],
   "source": [
    "freq_dists = [(lang, get_freq_dist(df[df['language'] == lang]\n",
    "                                   ['normalized_text'])) for lang in LANGUAGES]\n",
    "\n",
    "for (lang, dist) in freq_dists:\n",
    "    dist.plot(20, cumulative=True, title=lang)\n"
   ]
  },
  {
   "cell_type": "markdown",
   "id": "38dc5da5",
   "metadata": {},
   "source": [
    "It is interesting to note that the word `file` appears much less often in issues posted by Javascript devs in contrast to it being mentioned very often by C devs. This reflects the nature of the languages where C code manipulates files very often while Javascript being constrained to the browser does not have direct access to files. \n",
    "\n",
    "Next the commonness of the word `go` in the Golang word is investigated."
   ]
  },
  {
   "cell_type": "code",
   "execution_count": 183,
   "id": "db039830",
   "metadata": {},
   "outputs": [
    {
     "name": "stdout",
     "output_type": "stream",
     "text": [
      "Displaying 25 of 11503 matches:\n",
      "nning tests works running tests godep go test failes find easy way send health\n",
      "ders happy work think right direction go currently supported dns provider goog\n",
      "s menu opened file press debug panels go version download etcd go mod shows er\n",
      "debug panels go version download etcd go mod shows error package becomed inter\n",
      " internal etcd use package vendor use go module imported etcd error thrown ope\n",
      "o failed valid threw together running go mac needs repl getstreamstohost port \n",
      "t many cases gjson makes use standard go package functions carefully uses help\n",
      "usage also important measures compare go web frameworks add prometheus monitor\n",
      "kqueue syscalls rather using standard go net package works similar manner libu\n",
      " goal project create server framework go performs par redis haproxy packet han\n",
      "ling hope use foundation future proxy go bunch stuff support write rpcx servic\n",
      "ally macbook pro ghz intel core using go commands currently nearby command sup\n",
      "rocess see hi nice work porting gjson go rust creator maintainer noticed chose\n",
      "n use program relied mac uuid upgrade go cause big problem config get watch re\n",
      "url routers dynamic load need compile go file like revel format like last beeg\n",
      "ibrary may vendor tag release removed go build fail reproduce expected behavio\n",
      "uild fail reproduce expected behavior go build success screenshots applicable \n",
      "chbase admin ui gotests makes writing go tests easy golang commandline tool ge\n",
      "ies test files automatically imported go go tool managing go source code usage\n",
      " test files automatically imported go go tool managing go source code usage co\n",
      "atically imported go go tool managing go source code usage commands gor new do\n",
      "kage found relative path think things go much better project may become like p\n",
      "ch better project may become like pre go version go version serving peak load \n",
      "roject may become like pre go version go version serving peak load system crea\n",
      "roject super convenience user develop go project bee sample download run sampl\n"
     ]
    }
   ],
   "source": [
    "def to_nltk_text(df: pd.DataFrame, lang: str) -> nltk.Text:\n",
    "    return nltk.Text([w for e in df[df['language'] == lang]['normalized_text'] for w in e])\n",
    "\n",
    "# `go` word is used often by golang developers\n",
    "go_text = to_nltk_text(df, 'Go')\n",
    "\n",
    "go_text.concordance(\"go\")\n"
   ]
  },
  {
   "cell_type": "markdown",
   "id": "930e46d3",
   "metadata": {},
   "source": [
    "As we can see above, `go` is used so often due to it being the name of the golang CLI tool. Let's see how many occurrences are actually `go` commands:"
   ]
  },
  {
   "cell_type": "code",
   "execution_count": 184,
   "id": "d995c9f2",
   "metadata": {},
   "outputs": [
    {
     "data": {
      "text/plain": [
       "(11503, 0.2950534643136573)"
      ]
     },
     "execution_count": 184,
     "metadata": {},
     "output_type": "execute_result"
    }
   ],
   "source": [
    "def frac_go_subcmd(text: nltk.Text) -> float:\n",
    "    # Go CLI subcommands as of go v1.18\n",
    "    subcommands = {'bug', 'build', 'clean', 'doc', 'env', 'fix',\n",
    "                   'fmt', 'generate', 'get', 'install', 'list',\n",
    "                   'mod', 'work', 'run', 'test', 'tool', 'version', 'vet'}\n",
    "\n",
    "    total = 0\n",
    "    cmds = 0\n",
    "\n",
    "    for (w1, w2) in nltk.bigrams(text):\n",
    "        if w1 == 'go':\n",
    "            if w2 in subcommands:\n",
    "                cmds += 1\n",
    "            total += 1\n",
    "            \n",
    "    if total == 0:\n",
    "        return 0\n",
    "\n",
    "    return (total, cmds / total)\n",
    "\n",
    "frac_go_subcmd(go_text)"
   ]
  },
  {
   "cell_type": "markdown",
   "id": "557012de",
   "metadata": {},
   "source": [
    "Almost 30% of occurrences of `go` are followed by a subcommand of the Go CLI. Let's see if this relationship is visible in other languages"
   ]
  },
  {
   "cell_type": "code",
   "execution_count": 185,
   "id": "0210f0e3",
   "metadata": {},
   "outputs": [
    {
     "data": {
      "image/png": "[encoded data removed]",
      "text/plain": [
       "<Figure size 432x288 with 2 Axes>"
      ]
     },
     "metadata": {
      "needs_background": "light"
     },
     "output_type": "display_data"
    }
   ],
   "source": [
    "go_subcmd_freq = [frac_go_subcmd(to_nltk_text(df, lang)) for lang in LANGUAGES]\n",
    "\n",
    "fig, ax1 = plt.subplots()\n",
    "\n",
    "ax1.bar(LANGUAGES, [t[1] for t in go_subcmd_freq])\n",
    "ax1.set_ylabel('Occurrences of the word go as a subcommand [%]')\n",
    "ax1.legend(['go as subcommand'], loc=\"upper left\", frameon=False)\n",
    "\n",
    "ax2 = ax1.twinx()\n",
    "ax2.plot([t[0] for t in go_subcmd_freq], color='orange')\n",
    "ax2.set_ylabel('Total occurrences of the word go')\n",
    "ax2.legend(['total occurrences'], bbox_to_anchor=(0.395, 0.93), frameon=False)\n",
    "\n",
    "fig.suptitle('Occurrences of the word `go`')\n",
    "\n",
    "plt.show()"
   ]
  },
  {
   "cell_type": "markdown",
   "id": "8bb21ea9",
   "metadata": {},
   "source": [
    "One can see that Go demonstrates a noticable difference, which explains the often usage of the word 'go' by golang developers. Additionally, golang has a language keyword `go` which runs a function concurrently. This function is at the core of Golang, and is very likely to be discussed often by its developers.\n",
    "\n",
    "It is interesting to see that even though the usage of the word `go` by C developers is much rarer than by Golang developers, a big chunk of the occurrences (20%) are in the context of a Golang CLI subcommand. Let's check the concordance for the go word in the C language issues."
   ]
  },
  {
   "cell_type": "code",
   "execution_count": 186,
   "id": "300433a6",
   "metadata": {},
   "outputs": [
    {
     "name": "stdout",
     "output_type": "stream",
     "text": [
      "Displaying 25 of 1566 matches:\n",
      "ries remotely debugging want actually go network remote locations planes etc r\n",
      "vents fire store container want reset go back analysis everything stops workin\n",
      "representation trace arg aliases work go compiled gccgo gccgo hello go gc comp\n",
      "es work go compiled gccgo gccgo hello go gc compiler go build uses different f\n",
      "iled gccgo gccgo hello go gc compiler go build uses different function calling\n",
      "s trace already works expected faster go compiler know added prio low tag wrot\n",
      "e casting utime different struct llvm go memory consumption program works one \n",
      "ry libquic experiments interest using go make build process require code buffe\n",
      "ing criteria work still met similarly go see project xyz yy completion want ea\n",
      "isual information users similar maybe go certain threshold would negate answer\n",
      "erged upstream trees moment show want go reconciling branch upstream versions \n",
      "following dependency error make build go build find package goroot gopath find\n",
      "tadata flip side though less clear us go tweaking include instance adding got \n",
      "nging sass variables would still need go one would least align minima github t\n",
      "ing nw could feature help close issue go claim though wo crash still user frie\n",
      "ompile time something like expression go evaluate constant integer starting ze\n",
      "l lib sure exactly much seems bit pay go example think could start using drive\n",
      "mply click item tray menu open chrome go also windows os x clients support sca\n",
      "work involved may next problems fixed go step step file followup bugs find pro\n",
      "ed benchmarking stuff initially clone go benchmark system started drift toward\n",
      "consensus languages c paths also perl go least literals though treat escape co\n",
      "empty best max base getting error run go get directory using known version con\n",
      "nya package manager first version use go main programming language package man\n",
      "now lints similar enough restrictions go tool phrased terms tool want least br\n",
      "related project anyway reposting best go export page deprecation notice requir\n"
     ]
    }
   ],
   "source": [
    "to_nltk_text(df, 'C').concordance('go')"
   ]
  },
  {
   "cell_type": "markdown",
   "id": "8835f786",
   "metadata": {},
   "source": [
    "Mentions of `gccgo` and `cgo` can be noticed. These are respectively the GNU Golang compiler and the C interface for Golang programs. It would seem, that C developers are also Golang developers thus the increase use of the word `go` in the context of the CLI tool."
   ]
  },
  {
   "cell_type": "code",
   "execution_count": 187,
   "id": "fac17e6c",
   "metadata": {
    "pycharm": {
     "name": "#%%\n"
    }
   },
   "outputs": [
    {
     "name": "stdout",
     "output_type": "stream",
     "text": [
      "[3202072, 2772789, 4248497, 4831527]\n"
     ]
    }
   ],
   "source": [
    "total_tokens = [np.sum(df[df['language'] == lang]['length'])\n",
    "                for lang in LANGUAGES]\n",
    "print(total_tokens)\n",
    "#Javascript, Python, C: over 40% of text is first 20 words"
   ]
  },
  {
   "cell_type": "markdown",
   "id": "b5ae016d",
   "metadata": {
    "pycharm": {
     "name": "#%% md\n"
    }
   },
   "source": [
    "## Passive sentences frequenccy\n",
    "\n",
    "Using nltk's part of speach tagger, a given sentence is classified as either passive or not. (Source: https://github.com/flycrane01/nltk-passive-voice-detector-for-English/blob/master/Passive-voice.py)\n",
    "\n",
    "TODO: what are the conclusions, split into sentences not full text"
   ]
  },
  {
   "cell_type": "code",
   "execution_count": 188,
   "id": "7d775749",
   "metadata": {
    "pycharm": {
     "name": "#%%\n"
    }
   },
   "outputs": [],
   "source": [
    "beforms = ['am', 'is', 'are', 'been', 'was', 'were', 'be', 'being']  # all forms of \"be\"\n",
    "aux = ['do', 'did', 'does', 'have', 'has', 'had']\n",
    "\n",
    "\n",
    "def is_passive(words: list[str]) -> bool:  # NLTK tags \"do\" and \"have\" as verbs, which can be misleading in the following section\n",
    "    tokens = nltk.pos_tag(words)\n",
    "    tags = [i[1] for i in tokens]\n",
    "    if tags.count('VBN') == 0:  # no PP, no passive voice.\n",
    "        return False\n",
    "    elif tags.count('VBN') == 1 and 'been' in words:  # one PP \"been\", still no passive voice.\n",
    "        return False\n",
    "    else:\n",
    "        pos = [i for i in range(len(tags)) if\n",
    "               tags[i] == 'VBN' and words[i] != 'been']  # gather all the PPs that are not \"been\".\n",
    "        for end in pos:\n",
    "            chunk = tags[:end]\n",
    "            start = 0\n",
    "            for i in range(len(chunk), 0, -1):\n",
    "                last = chunk.pop()\n",
    "                if last == 'NN' or last == 'PRP':\n",
    "                    start = i  # get the chunk between PP and the previous NN or PRP (which in most cases are subjects)\n",
    "                    break\n",
    "            sentchunk = words[start:end]\n",
    "            tagschunk = tags[start:end]\n",
    "            verbspos = [i for i in range(len(tagschunk)) if\n",
    "                        tagschunk[i].startswith('V')]  # get all the verbs in between\n",
    "            if verbspos != []:  # if there are no verbs in between, it's not passive\n",
    "                for i in verbspos:\n",
    "                    if sentchunk[i].lower() not in beforms and sentchunk[\n",
    "                        i].lower() not in aux:  # check if they are all forms of \"be\" or auxiliaries such as \"do\" or \"have\".\n",
    "                        break\n",
    "                else:\n",
    "                    return True\n",
    "    return False\n"
   ]
  },
  {
   "cell_type": "code",
   "execution_count": 189,
   "id": "fbd44196",
   "metadata": {
    "pycharm": {
     "name": "#%%\n"
    }
   },
   "outputs": [],
   "source": [
    "def count_passives(texts: pd.Series) -> float:\n",
    "    count = 0\n",
    "    for t in texts:\n",
    "        if is_passive(t):\n",
    "            count += 1\n",
    "    return count / len(texts)"
   ]
  },
  {
   "cell_type": "code",
   "execution_count": null,
   "id": "0bd9f00d",
   "metadata": {
    "pycharm": {
     "name": "#%%\n"
    }
   },
   "outputs": [],
   "source": [
    "passive_freq = [(lang, count_passives(df[df['language'] == lang]\n",
    "                                      ['tokenized_text'])) for lang in LANGUAGES]\n",
    "\n",
    "plt.bar(*zip(*passive_freq))\n",
    "plt.show()"
   ]
  },
  {
   "cell_type": "markdown",
   "id": "87013cc6",
   "metadata": {
    "pycharm": {
     "name": "#%% md\n"
    }
   },
   "source": [
    "## Flesch reading score"
   ]
  },
  {
   "cell_type": "code",
   "execution_count": 24,
   "id": "edb420e4",
   "metadata": {
    "pycharm": {
     "name": "#%%\n"
    }
   },
   "outputs": [
    {
     "data": {
      "image/png": "[encoded data removed]",
      "text/plain": [
       "<Figure size 432x288 with 1 Axes>"
      ]
     },
     "metadata": {
      "needs_background": "light"
     },
     "output_type": "display_data"
    }
   ],
   "source": [
    "from textstat import textstat\n",
    "\n",
    "df['flesch_reading_ease'] = df['text'].apply(textstat.flesch_reading_ease)\n",
    "\n",
    "flesch_reading_score = [(lang, df[df['language'] == lang]['flesch_reading_ease'].mean()) for lang in LANGUAGES]\n",
    "\n",
    "plt.bar(*zip(*flesch_reading_score))\n",
    "plt.show()\n"
   ]
  },
  {
   "cell_type": "markdown",
   "id": "c9dd3d8f",
   "metadata": {
    "pycharm": {
     "name": "#%% md\n"
    }
   },
   "source": [
    "# Flesch-Kincaid grade"
   ]
  },
  {
   "cell_type": "code",
   "execution_count": 26,
   "id": "0e307aa1",
   "metadata": {
    "pycharm": {
     "name": "#%%\n"
    }
   },
   "outputs": [
    {
     "data": {
      "image/png": "[encoded data removed]",
      "text/plain": [
       "<Figure size 432x288 with 1 Axes>"
      ]
     },
     "metadata": {
      "needs_background": "light"
     },
     "output_type": "display_data"
    }
   ],
   "source": [
    "df['flesch_kincaid_grade'] = df['text'].apply(textstat.flesch_kincaid_grade)\n",
    "\n",
    "flesch_kincaid_grade = [(lang, df[df['language'] == lang]['flesch_kincaid_grade'].mean()) for lang in LANGUAGES]\n",
    "\n",
    "plt.bar(*zip(*flesch_kincaid_grade))\n",
    "plt.show()\n"
   ]
  },
  {
   "cell_type": "code",
   "execution_count": 32,
   "id": "e42536f2",
   "metadata": {},
   "outputs": [
    {
     "name": "stderr",
     "output_type": "stream",
     "text": [
      "[nltk_data] Downloading package vader_lexicon to\n",
      "[nltk_data]     /Users/marcinwojnarowski/nltk_data...\n",
      "[nltk_data]   Package vader_lexicon is already up-to-date!\n"
     ]
    },
    {
     "data": {
      "text/plain": [
       "55485     Individual commands currently implement their ...\n",
       "158571    macos high Sierra 10.13.5 xcode 9.3 $ uname -a...\n",
       "53121     SSL Kill Switch does not seem to work anymore ...\n",
       "6114      Reported by Jonathan Brannan: When doing 'git ...\n",
       "167828    Not completely sure what is breaking, and this...\n",
       "170743    Per the comments in v1beta1 Event: The field c...\n",
       "43624     As seen in , when the client receives certain ...\n",
       "20444     Refs We have a bunch of random management comm...\n",
       "19294     These test failures started with 20.1 beta 3: ...\n",
       "40555     I have checked the following places for your e...\n",
       "Name: text, dtype: object"
      ]
     },
     "execution_count": 32,
     "metadata": {},
     "output_type": "execute_result"
    }
   ],
   "source": [
    "from nltk.sentiment import SentimentIntensityAnalyzer\n",
    "\n",
    "nltk.download('vader_lexicon')\n",
    "\n",
    "sia = SentimentIntensityAnalyzer()\n",
    "# df['compound_sentiment'] = df['text'].apply(lambda t: sia.polarity_scores(t)['compound'])\n",
    "# sia.polarity_scores(\"Wow, NLTK is really powerful!\")\n",
    "\n",
    "df[df['compound_sentiment'] < -0.8].sample(n=10)['text']\n"
   ]
  },
  {
   "cell_type": "code",
   "execution_count": null,
   "id": "115375d4",
   "metadata": {},
   "outputs": [],
   "source": []
  }
 ],
 "metadata": {
  "interpreter": {
   "hash": "12b19673986d4010ba67c425cb0c5a822ac6ff18cb17f699860be4870fa5856d"
  },
  "kernelspec": {
   "display_name": "Python 3 (ipykernel)",
   "language": "python",
   "name": "python3"
  },
  "language_info": {
   "codemirror_mode": {
    "name": "ipython",
    "version": 3
   },
   "file_extension": ".py",
   "mimetype": "text/x-python",
   "name": "python",
   "nbconvert_exporter": "python",
   "pygments_lexer": "ipython3",
   "version": "3.10.4"
  }
 },
 "nbformat": 4,
 "nbformat_minor": 5
}
