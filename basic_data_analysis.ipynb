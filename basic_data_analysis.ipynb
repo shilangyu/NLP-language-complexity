{
 "cells": [
  {
   "cell_type": "code",
   "execution_count": 1,
   "id": "28ee10d5",
   "metadata": {},
   "outputs": [],
   "source": [
    "import pandas as pd\n",
    "from matplotlib import pyplot as plt\n",
    "import numpy as np\n",
    "import os\n",
    "import nltk, re, pprint\n",
    "from nltk import word_tokenize\n",
    "\n",
    "\n",
    "DATA_PATH = os.getcwd() + '\\\\data_cleaner\\\\output'\n",
    "\n",
    "df_C = pd.read_csv (DATA_PATH +'\\\\C.csv') \n",
    "df_Python = pd.read_csv (DATA_PATH +'\\\\Python.csv') \n",
    "df_Javascript = pd.read_csv (DATA_PATH +'\\\\Javascript.csv') \n",
    "df_Go = pd.read_csv (DATA_PATH +'\\\\Go.csv') "
   ]
  },
  {
   "cell_type": "code",
   "execution_count": 2,
   "id": "38769663",
   "metadata": {},
   "outputs": [
    {
     "data": {
      "text/html": [
       "<div>\n",
       "<style scoped>\n",
       "    .dataframe tbody tr th:only-of-type {\n",
       "        vertical-align: middle;\n",
       "    }\n",
       "\n",
       "    .dataframe tbody tr th {\n",
       "        vertical-align: top;\n",
       "    }\n",
       "\n",
       "    .dataframe thead th {\n",
       "        text-align: right;\n",
       "    }\n",
       "</style>\n",
       "<table border=\"1\" class=\"dataframe\">\n",
       "  <thead>\n",
       "    <tr style=\"text-align: right;\">\n",
       "      <th></th>\n",
       "      <th>author</th>\n",
       "      <th>text</th>\n",
       "    </tr>\n",
       "  </thead>\n",
       "  <tbody>\n",
       "    <tr>\n",
       "      <th>0</th>\n",
       "      <td>laruence</td>\n",
       "      <td>Hi: I am thinking of make a release(maybe a ta...</td>\n",
       "    </tr>\n",
       "    <tr>\n",
       "      <th>1</th>\n",
       "      <td>laruence</td>\n",
       "      <td>thanks</td>\n",
       "    </tr>\n",
       "    <tr>\n",
       "      <th>2</th>\n",
       "      <td>torvalds</td>\n",
       "      <td>So we use libgit2 in subsurface as one of the ...</td>\n",
       "    </tr>\n",
       "    <tr>\n",
       "      <th>3</th>\n",
       "      <td>torvalds</td>\n",
       "      <td>Apparently patchwork will corrupt author names...</td>\n",
       "    </tr>\n",
       "    <tr>\n",
       "      <th>4</th>\n",
       "      <td>LiveOverflow</td>\n",
       "      <td>Describe the bug Crest Ocean has a weird behav...</td>\n",
       "    </tr>\n",
       "  </tbody>\n",
       "</table>\n",
       "</div>"
      ],
      "text/plain": [
       "         author                                               text\n",
       "0      laruence  Hi: I am thinking of make a release(maybe a ta...\n",
       "1      laruence                                             thanks\n",
       "2      torvalds  So we use libgit2 in subsurface as one of the ...\n",
       "3      torvalds  Apparently patchwork will corrupt author names...\n",
       "4  LiveOverflow  Describe the bug Crest Ocean has a weird behav..."
      ]
     },
     "execution_count": 2,
     "metadata": {},
     "output_type": "execute_result"
    }
   ],
   "source": [
    "df_C.head()"
   ]
  },
  {
   "cell_type": "code",
   "execution_count": 3,
   "id": "44e22818",
   "metadata": {},
   "outputs": [
    {
     "data": {
      "text/html": [
       "<div>\n",
       "<style scoped>\n",
       "    .dataframe tbody tr th:only-of-type {\n",
       "        vertical-align: middle;\n",
       "    }\n",
       "\n",
       "    .dataframe tbody tr th {\n",
       "        vertical-align: top;\n",
       "    }\n",
       "\n",
       "    .dataframe thead th {\n",
       "        text-align: right;\n",
       "    }\n",
       "</style>\n",
       "<table border=\"1\" class=\"dataframe\">\n",
       "  <thead>\n",
       "    <tr style=\"text-align: right;\">\n",
       "      <th></th>\n",
       "      <th>author</th>\n",
       "      <th>text</th>\n",
       "      <th>tokenized_text</th>\n",
       "    </tr>\n",
       "  </thead>\n",
       "  <tbody>\n",
       "    <tr>\n",
       "      <th>0</th>\n",
       "      <td>laruence</td>\n",
       "      <td>Hi: I am thinking of make a release(maybe a ta...</td>\n",
       "      <td>[Hi, :, I, am, thinking, of, make, a, release,...</td>\n",
       "    </tr>\n",
       "    <tr>\n",
       "      <th>1</th>\n",
       "      <td>laruence</td>\n",
       "      <td>thanks</td>\n",
       "      <td>[thanks]</td>\n",
       "    </tr>\n",
       "    <tr>\n",
       "      <th>2</th>\n",
       "      <td>torvalds</td>\n",
       "      <td>So we use libgit2 in subsurface as one of the ...</td>\n",
       "      <td>[So, we, use, libgit2, in, subsurface, as, one...</td>\n",
       "    </tr>\n",
       "    <tr>\n",
       "      <th>3</th>\n",
       "      <td>torvalds</td>\n",
       "      <td>Apparently patchwork will corrupt author names...</td>\n",
       "      <td>[Apparently, patchwork, will, corrupt, author,...</td>\n",
       "    </tr>\n",
       "    <tr>\n",
       "      <th>4</th>\n",
       "      <td>LiveOverflow</td>\n",
       "      <td>Describe the bug Crest Ocean has a weird behav...</td>\n",
       "      <td>[Describe, the, bug, Crest, Ocean, has, a, wei...</td>\n",
       "    </tr>\n",
       "  </tbody>\n",
       "</table>\n",
       "</div>"
      ],
      "text/plain": [
       "         author                                               text  \\\n",
       "0      laruence  Hi: I am thinking of make a release(maybe a ta...   \n",
       "1      laruence                                             thanks   \n",
       "2      torvalds  So we use libgit2 in subsurface as one of the ...   \n",
       "3      torvalds  Apparently patchwork will corrupt author names...   \n",
       "4  LiveOverflow  Describe the bug Crest Ocean has a weird behav...   \n",
       "\n",
       "                                      tokenized_text  \n",
       "0  [Hi, :, I, am, thinking, of, make, a, release,...  \n",
       "1                                           [thanks]  \n",
       "2  [So, we, use, libgit2, in, subsurface, as, one...  \n",
       "3  [Apparently, patchwork, will, corrupt, author,...  \n",
       "4  [Describe, the, bug, Crest, Ocean, has, a, wei...  "
      ]
     },
     "execution_count": 3,
     "metadata": {},
     "output_type": "execute_result"
    }
   ],
   "source": [
    "df_C['tokenized_text'] = df_C['text'].apply(word_tokenize) \n",
    "df_C.head()"
   ]
  },
  {
   "cell_type": "code",
   "execution_count": 4,
   "id": "e6d13601",
   "metadata": {},
   "outputs": [],
   "source": [
    "df_Go['tokenized_text'] = df_Go['text'].apply(word_tokenize) \n",
    "df_Python['tokenized_text'] = df_Python['text'].apply(word_tokenize) \n",
    "df_Javascript['tokenized_text'] = df_Javascript['text'].apply(word_tokenize) "
   ]
  },
  {
   "cell_type": "markdown",
   "id": "d7a2e282",
   "metadata": {},
   "source": [
    "## Average text length"
   ]
  },
  {
   "cell_type": "code",
   "execution_count": 12,
   "id": "1382c8c3",
   "metadata": {},
   "outputs": [
    {
     "data": {
      "image/png": "[encoded data removed]",
      "text/plain": [
       "<Figure size 432x288 with 1 Axes>"
      ]
     },
     "metadata": {
      "needs_background": "light"
     },
     "output_type": "display_data"
    }
   ],
   "source": [
    "df_C['length'] = df_C['tokenized_text'].apply(len)\n",
    "df_Go['length'] = df_Go['tokenized_text'].apply(len)\n",
    "df_Python['length'] = df_Python['tokenized_text'].apply(len)\n",
    "df_Javascript['length'] = df_Javascript['tokenized_text'].apply(len)\n",
    "\n",
    "\n",
    "means = [np.mean(df_C['length']), np.mean(df_Go['length']), np.mean(df_Python['length']), np.mean(df_Javascript['length']) ]\n",
    "widths  = [1, 2, 3, 4 ]\n",
    "labels =['C', 'Go', 'Python', 'JavaScript']\n",
    "plt.bar(widths, means, tick_label = labels,\n",
    "        width = 0.8)\n",
    "plt.show()"
   ]
  },
  {
   "cell_type": "markdown",
   "id": "f3db4987",
   "metadata": {},
   "source": [
    "## Average lexical diversity\n",
    "\n",
    "How diverse is vocabulary of a single entry?"
   ]
  },
  {
   "cell_type": "code",
   "execution_count": 14,
   "id": "82ad66b3",
   "metadata": {},
   "outputs": [],
   "source": [
    "def lexical_diversity(text):\n",
    "    return len(set(text)) / len(text)\n",
    "\n",
    "def percentage(count, total):\n",
    "    return 100 * count / total"
   ]
  },
  {
   "cell_type": "code",
   "execution_count": 15,
   "id": "20e4d263",
   "metadata": {},
   "outputs": [],
   "source": [
    "df_C['lex_div'] = df_C['text'].apply(lexical_diversity)\n",
    "df_Go['lex_div'] = df_Go['text'].apply(lexical_diversity)\n",
    "df_Python['lex_div'] = df_Python['text'].apply(lexical_diversity)\n",
    "df_Javascript['lex_div'] = df_Javascript['text'].apply(lexical_diversity)"
   ]
  },
  {
   "cell_type": "code",
   "execution_count": 16,
   "id": "634171aa",
   "metadata": {},
   "outputs": [
    {
     "data": {
      "image/png": "[encoded data removed]",
      "text/plain": [
       "<Figure size 432x288 with 1 Axes>"
      ]
     },
     "metadata": {
      "needs_background": "light"
     },
     "output_type": "display_data"
    }
   ],
   "source": [
    "means = [np.mean(df_C['lex_div']), np.mean(df_Go['lex_div']), np.mean(df_Python['lex_div']), np.mean(df_Javascript['lex_div'])]\n",
    "plt.bar(widths, means, tick_label = labels,\n",
    "        width = 0.8)\n",
    "plt.show()"
   ]
  },
  {
   "cell_type": "markdown",
   "id": "27632123",
   "metadata": {},
   "source": [
    "## Total lexical diversity\n",
    "\n",
    "How all enries are similar to each other?"
   ]
  },
  {
   "cell_type": "code",
   "execution_count": 17,
   "id": "7de67942",
   "metadata": {},
   "outputs": [],
   "source": [
    "all_C = ' '.join(df_C['text'])\n",
    "all_Go = ' '.join(df_Go['text'])\n",
    "all_Python = ' '.join(df_Python['text'])\n",
    "all_Javascript = ' '.join(df_Javascript['text'])"
   ]
  },
  {
   "cell_type": "code",
   "execution_count": 18,
   "id": "c9fe4424",
   "metadata": {},
   "outputs": [
    {
     "data": {
      "image/png": "[encoded data removed]",
      "text/plain": [
       "<Figure size 432x288 with 1 Axes>"
      ]
     },
     "metadata": {
      "needs_background": "light"
     },
     "output_type": "display_data"
    }
   ],
   "source": [
    "divs = [lexical_diversity(all_C), lexical_diversity(all_Go), lexical_diversity(all_Python), lexical_diversity(all_Javascript)]\n",
    "plt.bar(widths, divs, tick_label = labels,\n",
    "        width = 0.8)\n",
    "plt.show()"
   ]
  },
  {
   "cell_type": "markdown",
   "id": "8642127d",
   "metadata": {},
   "source": [
    "## Average word length"
   ]
  },
  {
   "cell_type": "code",
   "execution_count": 19,
   "id": "4722c334",
   "metadata": {},
   "outputs": [],
   "source": [
    "def average(words):\n",
    "    return (sum(len(word) for word in words) / len(words))\n"
   ]
  },
  {
   "cell_type": "code",
   "execution_count": 20,
   "id": "f88b6c0a",
   "metadata": {},
   "outputs": [],
   "source": [
    "\n",
    "df_C['word_length'] = df_C['tokenized_text'].apply(average)\n",
    "df_Go['word_length'] = df_Go['tokenized_text'].apply(average)\n",
    "df_Python['word_length'] = df_Python['tokenized_text'].apply(average)\n",
    "df_Javascript['word_length'] = df_Javascript['tokenized_text'].apply(average)\n"
   ]
  },
  {
   "cell_type": "code",
   "execution_count": 22,
   "id": "1493cca9",
   "metadata": {},
   "outputs": [
    {
     "data": {
      "image/png": "[encoded data removed]",
      "text/plain": [
       "<Figure size 432x288 with 1 Axes>"
      ]
     },
     "metadata": {
      "needs_background": "light"
     },
     "output_type": "display_data"
    }
   ],
   "source": [
    "means = [np.mean(df_C['word_length']), np.mean(df_Go['word_length']), np.mean(df_Python['word_length']), np.mean(df_Javascript['word_length'])]\n",
    "plt.bar(widths, means, tick_label = labels,\n",
    "        width = 0.8)\n",
    "plt.show()"
   ]
  },
  {
   "cell_type": "markdown",
   "id": "b4c6a0dc",
   "metadata": {},
   "source": [
    "## Count of words over 10 characters"
   ]
  },
  {
   "cell_type": "code",
   "execution_count": 28,
   "id": "84f82221",
   "metadata": {},
   "outputs": [],
   "source": [
    "def words_over_10(words):\n",
    "    sum=0\n",
    "    for word in words:\n",
    "        if(len(word)>=10):\n",
    "            sum+=1\n",
    "    return sum"
   ]
  },
  {
   "cell_type": "code",
   "execution_count": 29,
   "id": "3dadf1c5",
   "metadata": {},
   "outputs": [],
   "source": [
    "df_C['long_words'] = df_C['tokenized_text'].apply(words_over_10)\n",
    "df_Go['long_words'] = df_Go['tokenized_text'].apply(words_over_10)\n",
    "df_Python['long_words'] = df_Python['tokenized_text'].apply(words_over_10)\n",
    "df_Javascript['long_words'] = df_Javascript['tokenized_text'].apply(words_over_10)"
   ]
  },
  {
   "cell_type": "code",
   "execution_count": 30,
   "id": "3b95b184",
   "metadata": {},
   "outputs": [
    {
     "data": {
      "image/png": "[encoded data removed]",
      "text/plain": [
       "<Figure size 432x288 with 1 Axes>"
      ]
     },
     "metadata": {
      "needs_background": "light"
     },
     "output_type": "display_data"
    }
   ],
   "source": [
    "sums = [np.sum(df_C['long_words']), np.sum(df_Go['long_words']), np.sum(df_Python['long_words']), np.sum(df_Javascript['long_words'])]\n",
    "plt.bar(widths, sums, tick_label = labels,\n",
    "        width = 0.8)\n",
    "plt.show()"
   ]
  },
  {
   "cell_type": "markdown",
   "id": "4665ffd1",
   "metadata": {},
   "source": [
    "## Frequency distribution"
   ]
  },
  {
   "cell_type": "code",
   "execution_count": 73,
   "id": "e027d8ef",
   "metadata": {},
   "outputs": [
    {
     "ename": "KeyboardInterrupt",
     "evalue": "",
     "output_type": "error",
     "traceback": [
      "\u001b[1;31m---------------------------------------------------------------------------\u001b[0m",
      "\u001b[1;31mKeyboardInterrupt\u001b[0m                         Traceback (most recent call last)",
      "\u001b[1;32m~\\AppData\\Local\\Temp/ipykernel_17540/4041530058.py\u001b[0m in \u001b[0;36m<module>\u001b[1;34m\u001b[0m\n\u001b[0;32m      2\u001b[0m \u001b[0mfreq\u001b[0m \u001b[1;33m=\u001b[0m \u001b[1;33m[\u001b[0m\u001b[1;33m]\u001b[0m\u001b[1;33m\u001b[0m\u001b[1;33m\u001b[0m\u001b[0m\n\u001b[0;32m      3\u001b[0m \u001b[1;32mfor\u001b[0m \u001b[0mword\u001b[0m \u001b[1;32min\u001b[0m \u001b[0munique_C\u001b[0m\u001b[1;33m:\u001b[0m\u001b[1;33m\u001b[0m\u001b[1;33m\u001b[0m\u001b[0m\n\u001b[1;32m----> 4\u001b[1;33m     \u001b[0mfreq\u001b[0m\u001b[1;33m.\u001b[0m\u001b[0mappend\u001b[0m\u001b[1;33m(\u001b[0m\u001b[1;33m(\u001b[0m\u001b[0mall_C\u001b[0m\u001b[1;33m.\u001b[0m\u001b[0mcount\u001b[0m\u001b[1;33m(\u001b[0m\u001b[0mword\u001b[0m\u001b[1;33m)\u001b[0m\u001b[1;33m,\u001b[0m \u001b[0mword\u001b[0m\u001b[1;33m)\u001b[0m\u001b[1;33m)\u001b[0m\u001b[1;33m\u001b[0m\u001b[1;33m\u001b[0m\u001b[0m\n\u001b[0m\u001b[0;32m      5\u001b[0m \u001b[1;33m\u001b[0m\u001b[0m\n\u001b[0;32m      6\u001b[0m \u001b[0msorted\u001b[0m\u001b[1;33m(\u001b[0m\u001b[0mfreq\u001b[0m\u001b[1;33m)\u001b[0m\u001b[1;33m\u001b[0m\u001b[1;33m\u001b[0m\u001b[0m\n",
      "\u001b[1;31mKeyboardInterrupt\u001b[0m: "
     ]
    }
   ],
   "source": [
    "#it takes forever \n",
    "unique_C = set(all_C.split())\n",
    "freq = []\n",
    "for word in unique_C:\n",
    "    freq.append((all_C.count(word), word))\n",
    "    \n",
    "sorted(freq)"
   ]
  },
  {
   "cell_type": "code",
   "execution_count": null,
   "id": "f17f7277",
   "metadata": {},
   "outputs": [],
   "source": []
  }
 ],
 "metadata": {
  "kernelspec": {
   "display_name": "Python 3 (ipykernel)",
   "language": "python",
   "name": "python3"
  },
  "language_info": {
   "codemirror_mode": {
    "name": "ipython",
    "version": 3
   },
   "file_extension": ".py",
   "mimetype": "text/x-python",
   "name": "python",
   "nbconvert_exporter": "python",
   "pygments_lexer": "ipython3",
   "version": "3.9.7"
  }
 },
 "nbformat": 4,
 "nbformat_minor": 5
}
